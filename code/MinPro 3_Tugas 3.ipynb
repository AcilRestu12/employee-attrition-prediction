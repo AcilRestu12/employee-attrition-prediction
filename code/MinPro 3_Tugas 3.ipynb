{
 "cells": [
  {
   "cell_type": "markdown",
   "metadata": {},
   "source": [
    "# 0. Initialization"
   ]
  },
  {
   "cell_type": "code",
   "execution_count": 166,
   "metadata": {},
   "outputs": [],
   "source": [
    "import math\n",
    "import numpy as np\n",
    "import pandas as pd\n",
    "import seaborn as sns\n",
    "# import plotly.io as pio\n",
    "import matplotlib.pyplot as plt\n",
    "import plotly.graph_objects as go\n",
    "import plotly.express as px"
   ]
  },
  {
   "cell_type": "code",
   "execution_count": 167,
   "metadata": {},
   "outputs": [],
   "source": [
    "# pio.renderers.default = 'notebook'\n",
    "# pio.renderers.default = 'browser'"
   ]
  },
  {
   "cell_type": "code",
   "execution_count": 168,
   "metadata": {},
   "outputs": [
    {
     "data": {
      "text/html": [
       "<div>\n",
       "<style scoped>\n",
       "    .dataframe tbody tr th:only-of-type {\n",
       "        vertical-align: middle;\n",
       "    }\n",
       "\n",
       "    .dataframe tbody tr th {\n",
       "        vertical-align: top;\n",
       "    }\n",
       "\n",
       "    .dataframe thead th {\n",
       "        text-align: right;\n",
       "    }\n",
       "</style>\n",
       "<table border=\"1\" class=\"dataframe\">\n",
       "  <thead>\n",
       "    <tr style=\"text-align: right;\">\n",
       "      <th></th>\n",
       "      <th>Username</th>\n",
       "      <th>EnterpriseID</th>\n",
       "      <th>StatusPernikahan</th>\n",
       "      <th>JenisKelamin</th>\n",
       "      <th>StatusKepegawaian</th>\n",
       "      <th>Pekerjaan</th>\n",
       "      <th>JenjangKarir</th>\n",
       "      <th>PerformancePegawai</th>\n",
       "      <th>AsalDaerah</th>\n",
       "      <th>HiringPlatform</th>\n",
       "      <th>...</th>\n",
       "      <th>NomorHP</th>\n",
       "      <th>Email</th>\n",
       "      <th>TingkatPendidikan</th>\n",
       "      <th>PernahBekerja</th>\n",
       "      <th>IkutProgramLOP</th>\n",
       "      <th>AlasanResign</th>\n",
       "      <th>TanggalLahir</th>\n",
       "      <th>TanggalHiring</th>\n",
       "      <th>TanggalPenilaianKaryawan</th>\n",
       "      <th>TanggalResign</th>\n",
       "    </tr>\n",
       "  </thead>\n",
       "  <tbody>\n",
       "    <tr>\n",
       "      <th>0</th>\n",
       "      <td>spiritedPorpoise3</td>\n",
       "      <td>111065</td>\n",
       "      <td>Belum_menikah</td>\n",
       "      <td>Pria</td>\n",
       "      <td>Outsource</td>\n",
       "      <td>Software Engineer (Back End)</td>\n",
       "      <td>Freshgraduate_program</td>\n",
       "      <td>Sangat_bagus</td>\n",
       "      <td>Jakarta Timur</td>\n",
       "      <td>Employee_Referral</td>\n",
       "      <td>...</td>\n",
       "      <td>+6282232522xxx</td>\n",
       "      <td>spiritedPorpoise3135@yahoo.com</td>\n",
       "      <td>Magister</td>\n",
       "      <td>1</td>\n",
       "      <td>1.0</td>\n",
       "      <td>masih_bekerja</td>\n",
       "      <td>1972-07-01</td>\n",
       "      <td>2011-01-10</td>\n",
       "      <td>2016-2-15</td>\n",
       "      <td>-</td>\n",
       "    </tr>\n",
       "    <tr>\n",
       "      <th>1</th>\n",
       "      <td>jealousGelding2</td>\n",
       "      <td>106080</td>\n",
       "      <td>Belum_menikah</td>\n",
       "      <td>Pria</td>\n",
       "      <td>FullTime</td>\n",
       "      <td>Data Analyst</td>\n",
       "      <td>Freshgraduate_program</td>\n",
       "      <td>Sangat_kurang</td>\n",
       "      <td>Jakarta Utara</td>\n",
       "      <td>Website</td>\n",
       "      <td>...</td>\n",
       "      <td>+6281270745xxx</td>\n",
       "      <td>jealousGelding2239@yahoo.com</td>\n",
       "      <td>Sarjana</td>\n",
       "      <td>1</td>\n",
       "      <td>1.0</td>\n",
       "      <td>toxic_culture</td>\n",
       "      <td>1984-04-26</td>\n",
       "      <td>2014-01-06</td>\n",
       "      <td>2020-1-17</td>\n",
       "      <td>2018-6-16</td>\n",
       "    </tr>\n",
       "    <tr>\n",
       "      <th>2</th>\n",
       "      <td>pluckyMuesli3</td>\n",
       "      <td>106452</td>\n",
       "      <td>Menikah</td>\n",
       "      <td>Pria</td>\n",
       "      <td>FullTime</td>\n",
       "      <td>Software Engineer (Front End)</td>\n",
       "      <td>Freshgraduate_program</td>\n",
       "      <td>Bagus</td>\n",
       "      <td>Jakarta Timur</td>\n",
       "      <td>Indeed</td>\n",
       "      <td>...</td>\n",
       "      <td>+6281346215xxx</td>\n",
       "      <td>pluckyMuesli3961@icloud.com</td>\n",
       "      <td>Magister</td>\n",
       "      <td>1</td>\n",
       "      <td>1.0</td>\n",
       "      <td>jam_kerja</td>\n",
       "      <td>1974-01-07</td>\n",
       "      <td>2011-01-10</td>\n",
       "      <td>2016-01-10</td>\n",
       "      <td>2014-9-24</td>\n",
       "    </tr>\n",
       "    <tr>\n",
       "      <th>3</th>\n",
       "      <td>stressedTruffle1</td>\n",
       "      <td>106325</td>\n",
       "      <td>Belum_menikah</td>\n",
       "      <td>Pria</td>\n",
       "      <td>Outsource</td>\n",
       "      <td>Software Engineer (Front End)</td>\n",
       "      <td>Freshgraduate_program</td>\n",
       "      <td>Bagus</td>\n",
       "      <td>Jakarta Pusat</td>\n",
       "      <td>LinkedIn</td>\n",
       "      <td>...</td>\n",
       "      <td>+6283233846xxx</td>\n",
       "      <td>stressedTruffle1406@hotmail.com</td>\n",
       "      <td>Sarjana</td>\n",
       "      <td>1</td>\n",
       "      <td>0.0</td>\n",
       "      <td>masih_bekerja</td>\n",
       "      <td>1979-11-24</td>\n",
       "      <td>2014-2-17</td>\n",
       "      <td>2020-02-04</td>\n",
       "      <td>-</td>\n",
       "    </tr>\n",
       "    <tr>\n",
       "      <th>4</th>\n",
       "      <td>shyTermite7</td>\n",
       "      <td>111171</td>\n",
       "      <td>Belum_menikah</td>\n",
       "      <td>Wanita</td>\n",
       "      <td>FullTime</td>\n",
       "      <td>Product Manager</td>\n",
       "      <td>Freshgraduate_program</td>\n",
       "      <td>Bagus</td>\n",
       "      <td>Jakarta Timur</td>\n",
       "      <td>LinkedIn</td>\n",
       "      <td>...</td>\n",
       "      <td>+6287883263xxx</td>\n",
       "      <td>shyTermite7149@gmail.com</td>\n",
       "      <td>Sarjana</td>\n",
       "      <td>1</td>\n",
       "      <td>0.0</td>\n",
       "      <td>ganti_karir</td>\n",
       "      <td>1974-11-07</td>\n",
       "      <td>2013-11-11</td>\n",
       "      <td>2020-1-22</td>\n",
       "      <td>2018-09-06</td>\n",
       "    </tr>\n",
       "  </tbody>\n",
       "</table>\n",
       "<p>5 rows × 25 columns</p>\n",
       "</div>"
      ],
      "text/plain": [
       "            Username  EnterpriseID StatusPernikahan JenisKelamin  \\\n",
       "0  spiritedPorpoise3        111065    Belum_menikah         Pria   \n",
       "1    jealousGelding2        106080    Belum_menikah         Pria   \n",
       "2      pluckyMuesli3        106452          Menikah         Pria   \n",
       "3   stressedTruffle1        106325    Belum_menikah         Pria   \n",
       "4        shyTermite7        111171    Belum_menikah       Wanita   \n",
       "\n",
       "  StatusKepegawaian                      Pekerjaan           JenjangKarir  \\\n",
       "0         Outsource   Software Engineer (Back End)  Freshgraduate_program   \n",
       "1          FullTime                   Data Analyst  Freshgraduate_program   \n",
       "2          FullTime  Software Engineer (Front End)  Freshgraduate_program   \n",
       "3         Outsource  Software Engineer (Front End)  Freshgraduate_program   \n",
       "4          FullTime                Product Manager  Freshgraduate_program   \n",
       "\n",
       "  PerformancePegawai     AsalDaerah     HiringPlatform  ...         NomorHP  \\\n",
       "0       Sangat_bagus  Jakarta Timur  Employee_Referral  ...  +6282232522xxx   \n",
       "1      Sangat_kurang  Jakarta Utara            Website  ...  +6281270745xxx   \n",
       "2              Bagus  Jakarta Timur             Indeed  ...  +6281346215xxx   \n",
       "3              Bagus  Jakarta Pusat           LinkedIn  ...  +6283233846xxx   \n",
       "4              Bagus  Jakarta Timur           LinkedIn  ...  +6287883263xxx   \n",
       "\n",
       "                             Email  TingkatPendidikan  PernahBekerja  \\\n",
       "0   spiritedPorpoise3135@yahoo.com           Magister              1   \n",
       "1     jealousGelding2239@yahoo.com            Sarjana              1   \n",
       "2      pluckyMuesli3961@icloud.com           Magister              1   \n",
       "3  stressedTruffle1406@hotmail.com            Sarjana              1   \n",
       "4         shyTermite7149@gmail.com            Sarjana              1   \n",
       "\n",
       "   IkutProgramLOP   AlasanResign TanggalLahir TanggalHiring  \\\n",
       "0             1.0  masih_bekerja   1972-07-01    2011-01-10   \n",
       "1             1.0  toxic_culture   1984-04-26    2014-01-06   \n",
       "2             1.0      jam_kerja   1974-01-07    2011-01-10   \n",
       "3             0.0  masih_bekerja   1979-11-24     2014-2-17   \n",
       "4             0.0    ganti_karir   1974-11-07    2013-11-11   \n",
       "\n",
       "  TanggalPenilaianKaryawan  TanggalResign  \n",
       "0                2016-2-15              -  \n",
       "1                2020-1-17      2018-6-16  \n",
       "2               2016-01-10      2014-9-24  \n",
       "3               2020-02-04              -  \n",
       "4                2020-1-22     2018-09-06  \n",
       "\n",
       "[5 rows x 25 columns]"
      ]
     },
     "execution_count": 168,
     "metadata": {},
     "output_type": "execute_result"
    }
   ],
   "source": [
    "df = pd.read_csv('../data/Improving Employee Retention by Predicting Employee Attrition Using Machine.csv', sep=',')\n",
    "df.head()"
   ]
  },
  {
   "cell_type": "markdown",
   "metadata": {},
   "source": [
    "# 1. Data Preprocessing"
   ]
  },
  {
   "cell_type": "markdown",
   "metadata": {},
   "source": [
    "## 1.1 Quick EDA"
   ]
  },
  {
   "cell_type": "code",
   "execution_count": 169,
   "metadata": {},
   "outputs": [
    {
     "name": "stdout",
     "output_type": "stream",
     "text": [
      "Info Dataset:\n",
      "Jumlah baris : 287\n",
      "Jumlah kolom : 25\n"
     ]
    }
   ],
   "source": [
    "# Informasi dataset\n",
    "print(\"Info Dataset:\")\n",
    "print(f\"Jumlah baris : {df.shape[0]}\")\n",
    "print(f\"Jumlah kolom : {df.shape[1]}\")"
   ]
  },
  {
   "cell_type": "code",
   "execution_count": 170,
   "metadata": {},
   "outputs": [
    {
     "name": "stdout",
     "output_type": "stream",
     "text": [
      "Info Kolom:\n",
      "<class 'pandas.core.frame.DataFrame'>\n",
      "RangeIndex: 287 entries, 0 to 286\n",
      "Data columns (total 25 columns):\n",
      " #   Column                              Non-Null Count  Dtype  \n",
      "---  ------                              --------------  -----  \n",
      " 0   Username                            287 non-null    object \n",
      " 1   EnterpriseID                        287 non-null    int64  \n",
      " 2   StatusPernikahan                    287 non-null    object \n",
      " 3   JenisKelamin                        287 non-null    object \n",
      " 4   StatusKepegawaian                   287 non-null    object \n",
      " 5   Pekerjaan                           287 non-null    object \n",
      " 6   JenjangKarir                        287 non-null    object \n",
      " 7   PerformancePegawai                  287 non-null    object \n",
      " 8   AsalDaerah                          287 non-null    object \n",
      " 9   HiringPlatform                      287 non-null    object \n",
      " 10  SkorSurveyEngagement                287 non-null    int64  \n",
      " 11  SkorKepuasanPegawai                 282 non-null    float64\n",
      " 12  JumlahKeikutsertaanProjek           284 non-null    float64\n",
      " 13  JumlahKeterlambatanSebulanTerakhir  286 non-null    float64\n",
      " 14  JumlahKetidakhadiran                281 non-null    float64\n",
      " 15  NomorHP                             287 non-null    object \n",
      " 16  Email                               287 non-null    object \n",
      " 17  TingkatPendidikan                   287 non-null    object \n",
      " 18  PernahBekerja                       287 non-null    object \n",
      " 19  IkutProgramLOP                      29 non-null     float64\n",
      " 20  AlasanResign                        221 non-null    object \n",
      " 21  TanggalLahir                        287 non-null    object \n",
      " 22  TanggalHiring                       287 non-null    object \n",
      " 23  TanggalPenilaianKaryawan            287 non-null    object \n",
      " 24  TanggalResign                       287 non-null    object \n",
      "dtypes: float64(5), int64(2), object(18)\n",
      "memory usage: 56.2+ KB\n",
      "None\n"
     ]
    }
   ],
   "source": [
    "# Informasi kolom\n",
    "print(\"Info Kolom:\")\n",
    "print(df.info())"
   ]
  },
  {
   "cell_type": "code",
   "execution_count": 171,
   "metadata": {},
   "outputs": [],
   "source": [
    "numerical_features = ['EnterpriseID', 'SkorSurveyEngagement', 'SkorKepuasanPegawai', \n",
    "                      'JumlahKeikutsertaanProjek', 'JumlahKeterlambatanSebulanTerakhir',\n",
    "                      'JumlahKetidakhadiran', 'IkutProgramLOP'\n",
    "                      ]\n",
    "\n",
    "# categorical_features = df.select_dtypes(include=[object])\n",
    "categorical_features = ['StatusPernikahan', 'JenisKelamin', 'StatusKepegawaian', 'Pekerjaan', \n",
    "                        'JenjangKarir', 'PerformancePegawai', 'AsalDaerah', 'HiringPlatform',\n",
    "                        'TingkatPendidikan', 'PernahBekerja', 'AlasanResign'\n",
    "                        ]"
   ]
  },
  {
   "cell_type": "code",
   "execution_count": 172,
   "metadata": {},
   "outputs": [
    {
     "data": {
      "text/html": [
       "<div>\n",
       "<style scoped>\n",
       "    .dataframe tbody tr th:only-of-type {\n",
       "        vertical-align: middle;\n",
       "    }\n",
       "\n",
       "    .dataframe tbody tr th {\n",
       "        vertical-align: top;\n",
       "    }\n",
       "\n",
       "    .dataframe thead th {\n",
       "        text-align: right;\n",
       "    }\n",
       "</style>\n",
       "<table border=\"1\" class=\"dataframe\">\n",
       "  <thead>\n",
       "    <tr style=\"text-align: right;\">\n",
       "      <th></th>\n",
       "      <th>EnterpriseID</th>\n",
       "      <th>SkorSurveyEngagement</th>\n",
       "      <th>SkorKepuasanPegawai</th>\n",
       "      <th>JumlahKeikutsertaanProjek</th>\n",
       "      <th>JumlahKeterlambatanSebulanTerakhir</th>\n",
       "      <th>JumlahKetidakhadiran</th>\n",
       "      <th>IkutProgramLOP</th>\n",
       "    </tr>\n",
       "  </thead>\n",
       "  <tbody>\n",
       "    <tr>\n",
       "      <th>count</th>\n",
       "      <td>287.000000</td>\n",
       "      <td>287.000000</td>\n",
       "      <td>282.000000</td>\n",
       "      <td>284.000000</td>\n",
       "      <td>286.000000</td>\n",
       "      <td>281.000000</td>\n",
       "      <td>29.000000</td>\n",
       "    </tr>\n",
       "    <tr>\n",
       "      <th>mean</th>\n",
       "      <td>105923.324042</td>\n",
       "      <td>3.101045</td>\n",
       "      <td>3.904255</td>\n",
       "      <td>1.179577</td>\n",
       "      <td>0.412587</td>\n",
       "      <td>10.448399</td>\n",
       "      <td>0.517241</td>\n",
       "    </tr>\n",
       "    <tr>\n",
       "      <th>std</th>\n",
       "      <td>4044.977599</td>\n",
       "      <td>0.836388</td>\n",
       "      <td>0.913355</td>\n",
       "      <td>2.294441</td>\n",
       "      <td>1.275016</td>\n",
       "      <td>6.902252</td>\n",
       "      <td>0.508548</td>\n",
       "    </tr>\n",
       "    <tr>\n",
       "      <th>min</th>\n",
       "      <td>100282.000000</td>\n",
       "      <td>1.000000</td>\n",
       "      <td>1.000000</td>\n",
       "      <td>0.000000</td>\n",
       "      <td>0.000000</td>\n",
       "      <td>1.000000</td>\n",
       "      <td>0.000000</td>\n",
       "    </tr>\n",
       "    <tr>\n",
       "      <th>25%</th>\n",
       "      <td>101269.000000</td>\n",
       "      <td>3.000000</td>\n",
       "      <td>3.000000</td>\n",
       "      <td>0.000000</td>\n",
       "      <td>0.000000</td>\n",
       "      <td>5.000000</td>\n",
       "      <td>0.000000</td>\n",
       "    </tr>\n",
       "    <tr>\n",
       "      <th>50%</th>\n",
       "      <td>106069.000000</td>\n",
       "      <td>3.000000</td>\n",
       "      <td>4.000000</td>\n",
       "      <td>0.000000</td>\n",
       "      <td>0.000000</td>\n",
       "      <td>10.000000</td>\n",
       "      <td>1.000000</td>\n",
       "    </tr>\n",
       "    <tr>\n",
       "      <th>75%</th>\n",
       "      <td>110514.500000</td>\n",
       "      <td>4.000000</td>\n",
       "      <td>5.000000</td>\n",
       "      <td>0.000000</td>\n",
       "      <td>0.000000</td>\n",
       "      <td>15.000000</td>\n",
       "      <td>1.000000</td>\n",
       "    </tr>\n",
       "    <tr>\n",
       "      <th>max</th>\n",
       "      <td>111703.000000</td>\n",
       "      <td>5.000000</td>\n",
       "      <td>5.000000</td>\n",
       "      <td>8.000000</td>\n",
       "      <td>6.000000</td>\n",
       "      <td>55.000000</td>\n",
       "      <td>1.000000</td>\n",
       "    </tr>\n",
       "  </tbody>\n",
       "</table>\n",
       "</div>"
      ],
      "text/plain": [
       "        EnterpriseID  SkorSurveyEngagement  SkorKepuasanPegawai  \\\n",
       "count     287.000000            287.000000           282.000000   \n",
       "mean   105923.324042              3.101045             3.904255   \n",
       "std      4044.977599              0.836388             0.913355   \n",
       "min    100282.000000              1.000000             1.000000   \n",
       "25%    101269.000000              3.000000             3.000000   \n",
       "50%    106069.000000              3.000000             4.000000   \n",
       "75%    110514.500000              4.000000             5.000000   \n",
       "max    111703.000000              5.000000             5.000000   \n",
       "\n",
       "       JumlahKeikutsertaanProjek  JumlahKeterlambatanSebulanTerakhir  \\\n",
       "count                 284.000000                          286.000000   \n",
       "mean                    1.179577                            0.412587   \n",
       "std                     2.294441                            1.275016   \n",
       "min                     0.000000                            0.000000   \n",
       "25%                     0.000000                            0.000000   \n",
       "50%                     0.000000                            0.000000   \n",
       "75%                     0.000000                            0.000000   \n",
       "max                     8.000000                            6.000000   \n",
       "\n",
       "       JumlahKetidakhadiran  IkutProgramLOP  \n",
       "count            281.000000       29.000000  \n",
       "mean              10.448399        0.517241  \n",
       "std                6.902252        0.508548  \n",
       "min                1.000000        0.000000  \n",
       "25%                5.000000        0.000000  \n",
       "50%               10.000000        1.000000  \n",
       "75%               15.000000        1.000000  \n",
       "max               55.000000        1.000000  "
      ]
     },
     "execution_count": 172,
     "metadata": {},
     "output_type": "execute_result"
    }
   ],
   "source": [
    "# Statistical summaries feature numerical\n",
    "df[numerical_features].describe()"
   ]
  },
  {
   "cell_type": "code",
   "execution_count": 173,
   "metadata": {},
   "outputs": [
    {
     "data": {
      "text/html": [
       "<div>\n",
       "<style scoped>\n",
       "    .dataframe tbody tr th:only-of-type {\n",
       "        vertical-align: middle;\n",
       "    }\n",
       "\n",
       "    .dataframe tbody tr th {\n",
       "        vertical-align: top;\n",
       "    }\n",
       "\n",
       "    .dataframe thead th {\n",
       "        text-align: right;\n",
       "    }\n",
       "</style>\n",
       "<table border=\"1\" class=\"dataframe\">\n",
       "  <thead>\n",
       "    <tr style=\"text-align: right;\">\n",
       "      <th></th>\n",
       "      <th>StatusPernikahan</th>\n",
       "      <th>JenisKelamin</th>\n",
       "      <th>StatusKepegawaian</th>\n",
       "      <th>Pekerjaan</th>\n",
       "      <th>JenjangKarir</th>\n",
       "      <th>PerformancePegawai</th>\n",
       "      <th>AsalDaerah</th>\n",
       "      <th>HiringPlatform</th>\n",
       "      <th>TingkatPendidikan</th>\n",
       "      <th>PernahBekerja</th>\n",
       "      <th>AlasanResign</th>\n",
       "    </tr>\n",
       "  </thead>\n",
       "  <tbody>\n",
       "    <tr>\n",
       "      <th>count</th>\n",
       "      <td>287</td>\n",
       "      <td>287</td>\n",
       "      <td>287</td>\n",
       "      <td>287</td>\n",
       "      <td>287</td>\n",
       "      <td>287</td>\n",
       "      <td>287</td>\n",
       "      <td>287</td>\n",
       "      <td>287</td>\n",
       "      <td>287</td>\n",
       "      <td>221</td>\n",
       "    </tr>\n",
       "    <tr>\n",
       "      <th>unique</th>\n",
       "      <td>5</td>\n",
       "      <td>2</td>\n",
       "      <td>3</td>\n",
       "      <td>14</td>\n",
       "      <td>3</td>\n",
       "      <td>5</td>\n",
       "      <td>5</td>\n",
       "      <td>9</td>\n",
       "      <td>3</td>\n",
       "      <td>2</td>\n",
       "      <td>11</td>\n",
       "    </tr>\n",
       "    <tr>\n",
       "      <th>top</th>\n",
       "      <td>Belum_menikah</td>\n",
       "      <td>Wanita</td>\n",
       "      <td>FullTime</td>\n",
       "      <td>Software Engineer (Back End)</td>\n",
       "      <td>Freshgraduate_program</td>\n",
       "      <td>Biasa</td>\n",
       "      <td>Jakarta Pusat</td>\n",
       "      <td>Indeed</td>\n",
       "      <td>Sarjana</td>\n",
       "      <td>1</td>\n",
       "      <td>masih_bekerja</td>\n",
       "    </tr>\n",
       "    <tr>\n",
       "      <th>freq</th>\n",
       "      <td>132</td>\n",
       "      <td>167</td>\n",
       "      <td>217</td>\n",
       "      <td>109</td>\n",
       "      <td>169</td>\n",
       "      <td>85</td>\n",
       "      <td>72</td>\n",
       "      <td>85</td>\n",
       "      <td>176</td>\n",
       "      <td>286</td>\n",
       "      <td>132</td>\n",
       "    </tr>\n",
       "  </tbody>\n",
       "</table>\n",
       "</div>"
      ],
      "text/plain": [
       "       StatusPernikahan JenisKelamin StatusKepegawaian  \\\n",
       "count               287          287               287   \n",
       "unique                5            2                 3   \n",
       "top       Belum_menikah       Wanita          FullTime   \n",
       "freq                132          167               217   \n",
       "\n",
       "                           Pekerjaan           JenjangKarir  \\\n",
       "count                            287                    287   \n",
       "unique                            14                      3   \n",
       "top     Software Engineer (Back End)  Freshgraduate_program   \n",
       "freq                             109                    169   \n",
       "\n",
       "       PerformancePegawai     AsalDaerah HiringPlatform TingkatPendidikan  \\\n",
       "count                 287            287            287               287   \n",
       "unique                  5              5              9                 3   \n",
       "top                 Biasa  Jakarta Pusat         Indeed           Sarjana   \n",
       "freq                   85             72             85               176   \n",
       "\n",
       "       PernahBekerja   AlasanResign  \n",
       "count            287            221  \n",
       "unique             2             11  \n",
       "top                1  masih_bekerja  \n",
       "freq             286            132  "
      ]
     },
     "execution_count": 173,
     "metadata": {},
     "output_type": "execute_result"
    }
   ],
   "source": [
    "# Statistical summaries feature categorical\n",
    "df[categorical_features].describe()"
   ]
  },
  {
   "cell_type": "code",
   "execution_count": 174,
   "metadata": {},
   "outputs": [
    {
     "name": "stdout",
     "output_type": "stream",
     "text": [
      "\n",
      "Pengecekan Missing Values:\n"
     ]
    },
    {
     "data": {
      "text/plain": [
       "Username                                0\n",
       "EnterpriseID                            0\n",
       "StatusPernikahan                        0\n",
       "JenisKelamin                            0\n",
       "StatusKepegawaian                       0\n",
       "Pekerjaan                               0\n",
       "JenjangKarir                            0\n",
       "PerformancePegawai                      0\n",
       "AsalDaerah                              0\n",
       "HiringPlatform                          0\n",
       "SkorSurveyEngagement                    0\n",
       "SkorKepuasanPegawai                     5\n",
       "JumlahKeikutsertaanProjek               3\n",
       "JumlahKeterlambatanSebulanTerakhir      1\n",
       "JumlahKetidakhadiran                    6\n",
       "NomorHP                                 0\n",
       "Email                                   0\n",
       "TingkatPendidikan                       0\n",
       "PernahBekerja                           0\n",
       "IkutProgramLOP                        258\n",
       "AlasanResign                           66\n",
       "TanggalLahir                            0\n",
       "TanggalHiring                           0\n",
       "TanggalPenilaianKaryawan                0\n",
       "TanggalResign                           0\n",
       "dtype: int64"
      ]
     },
     "execution_count": 174,
     "metadata": {},
     "output_type": "execute_result"
    }
   ],
   "source": [
    "# Pengecekan data yang hilang\n",
    "print(\"\\nPengecekan Missing Values:\")\n",
    "df.isnull().sum()"
   ]
  },
  {
   "cell_type": "markdown",
   "metadata": {},
   "source": [
    "- Pada kolom 'SkorKepuasanPegawai' terdapat 5 data yang missing value. \n",
    "- Pada kolom 'JumlahKeikutsertaanProjek' terdapat 3 data yang missing value. \n",
    "- Pada kolom 'JumlahKeterlambatanSebulanTerakhir' terdapat 1 data yang missing value. \n",
    "- Pada kolom 'JumlahKetidakhadiran' terdapat 6 data yang missing value. \n",
    "- Pada kolom 'IkutProgramLOP' terdapat 258 data yang missing value.\n",
    "- Pada kolom 'AlasanResign' terdapat 66 data yang missing value."
   ]
  },
  {
   "cell_type": "code",
   "execution_count": 175,
   "metadata": {},
   "outputs": [
    {
     "name": "stdout",
     "output_type": "stream",
     "text": [
      "\n",
      "Pengecekan Data Duplicate:\n"
     ]
    },
    {
     "data": {
      "text/plain": [
       "False    287\n",
       "Name: count, dtype: int64"
      ]
     },
     "execution_count": 175,
     "metadata": {},
     "output_type": "execute_result"
    }
   ],
   "source": [
    "# Pengecekan data yang duplicate\n",
    "print(\"\\nPengecekan Data Duplicate:\")\n",
    "df.duplicated().value_counts()"
   ]
  },
  {
   "cell_type": "markdown",
   "metadata": {},
   "source": [
    "- Tidak ada data yang duplicate."
   ]
  },
  {
   "cell_type": "code",
   "execution_count": 176,
   "metadata": {},
   "outputs": [
    {
     "name": "stdout",
     "output_type": "stream",
     "text": [
      "StatusPernikahan : 5\n",
      "JenisKelamin : 2\n",
      "StatusKepegawaian : 3\n",
      "Pekerjaan : 14\n",
      "JenjangKarir : 3\n",
      "PerformancePegawai : 5\n",
      "AsalDaerah : 5\n",
      "HiringPlatform : 9\n",
      "TingkatPendidikan : 3\n",
      "PernahBekerja : 2\n",
      "AlasanResign : 12\n"
     ]
    }
   ],
   "source": [
    "# Pengecekan jumlah unique value untuk kolom categorical\n",
    "for col in categorical_features:\n",
    "    unique = len(df[col].unique())\n",
    "    print(f\"{col} : {unique}\")"
   ]
  },
  {
   "cell_type": "code",
   "execution_count": 177,
   "metadata": {},
   "outputs": [
    {
     "data": {
      "text/plain": [
       "array(['1', 'yes'], dtype=object)"
      ]
     },
     "execution_count": 177,
     "metadata": {},
     "output_type": "execute_result"
    }
   ],
   "source": [
    "# Pengecekan kolom 'PernahBekerja'\n",
    "result = df['PernahBekerja'].unique()\n",
    "result"
   ]
  },
  {
   "cell_type": "markdown",
   "metadata": {},
   "source": [
    "- Fitur PernahBekerja adalah fitur yang hanya memiliki satu unique value."
   ]
  },
  {
   "cell_type": "code",
   "execution_count": 178,
   "metadata": {},
   "outputs": [
    {
     "data": {
      "text/html": [
       "<div>\n",
       "<style scoped>\n",
       "    .dataframe tbody tr th:only-of-type {\n",
       "        vertical-align: middle;\n",
       "    }\n",
       "\n",
       "    .dataframe tbody tr th {\n",
       "        vertical-align: top;\n",
       "    }\n",
       "\n",
       "    .dataframe thead th {\n",
       "        text-align: right;\n",
       "    }\n",
       "</style>\n",
       "<table border=\"1\" class=\"dataframe\">\n",
       "  <thead>\n",
       "    <tr style=\"text-align: right;\">\n",
       "      <th></th>\n",
       "      <th>Username</th>\n",
       "      <th>EnterpriseID</th>\n",
       "      <th>Pekerjaan</th>\n",
       "      <th>SkorKepuasanPegawai</th>\n",
       "      <th>PernahBekerja</th>\n",
       "      <th>IkutProgramLOP</th>\n",
       "      <th>AlasanResign</th>\n",
       "    </tr>\n",
       "  </thead>\n",
       "  <tbody>\n",
       "    <tr>\n",
       "      <th>6</th>\n",
       "      <td>madZebra1</td>\n",
       "      <td>100309</td>\n",
       "      <td>Data Analyst</td>\n",
       "      <td>3.0</td>\n",
       "      <td>1</td>\n",
       "      <td>NaN</td>\n",
       "      <td>masih_bekerja</td>\n",
       "    </tr>\n",
       "    <tr>\n",
       "      <th>7</th>\n",
       "      <td>cynicalMandrill7</td>\n",
       "      <td>110500</td>\n",
       "      <td>Software Engineer (Back End)</td>\n",
       "      <td>5.0</td>\n",
       "      <td>1</td>\n",
       "      <td>NaN</td>\n",
       "      <td>masih_bekerja</td>\n",
       "    </tr>\n",
       "    <tr>\n",
       "      <th>8</th>\n",
       "      <td>lyingMussel8</td>\n",
       "      <td>110533</td>\n",
       "      <td>Software Engineer (Android)</td>\n",
       "      <td>NaN</td>\n",
       "      <td>1</td>\n",
       "      <td>NaN</td>\n",
       "      <td>masih_bekerja</td>\n",
       "    </tr>\n",
       "    <tr>\n",
       "      <th>9</th>\n",
       "      <td>enviousMoth4</td>\n",
       "      <td>110927</td>\n",
       "      <td>Software Engineer (Android)</td>\n",
       "      <td>5.0</td>\n",
       "      <td>1</td>\n",
       "      <td>NaN</td>\n",
       "      <td>masih_bekerja</td>\n",
       "    </tr>\n",
       "    <tr>\n",
       "      <th>11</th>\n",
       "      <td>grizzledSnipe7</td>\n",
       "      <td>111354</td>\n",
       "      <td>Software Engineer (Back End)</td>\n",
       "      <td>5.0</td>\n",
       "      <td>1</td>\n",
       "      <td>NaN</td>\n",
       "      <td>tidak_bahagia</td>\n",
       "    </tr>\n",
       "    <tr>\n",
       "      <th>...</th>\n",
       "      <td>...</td>\n",
       "      <td>...</td>\n",
       "      <td>...</td>\n",
       "      <td>...</td>\n",
       "      <td>...</td>\n",
       "      <td>...</td>\n",
       "      <td>...</td>\n",
       "    </tr>\n",
       "    <tr>\n",
       "      <th>280</th>\n",
       "      <td>anxiousTeal2</td>\n",
       "      <td>111378</td>\n",
       "      <td>Software Engineer (Back End)</td>\n",
       "      <td>5.0</td>\n",
       "      <td>1</td>\n",
       "      <td>NaN</td>\n",
       "      <td>NaN</td>\n",
       "    </tr>\n",
       "    <tr>\n",
       "      <th>281</th>\n",
       "      <td>anxiousWasp6</td>\n",
       "      <td>100628</td>\n",
       "      <td>Software Engineer (Front End)</td>\n",
       "      <td>5.0</td>\n",
       "      <td>1</td>\n",
       "      <td>NaN</td>\n",
       "      <td>NaN</td>\n",
       "    </tr>\n",
       "    <tr>\n",
       "      <th>282</th>\n",
       "      <td>dopeySheep0</td>\n",
       "      <td>106034</td>\n",
       "      <td>Data Engineer</td>\n",
       "      <td>5.0</td>\n",
       "      <td>1</td>\n",
       "      <td>NaN</td>\n",
       "      <td>NaN</td>\n",
       "    </tr>\n",
       "    <tr>\n",
       "      <th>283</th>\n",
       "      <td>yearningPorpoise4</td>\n",
       "      <td>106254</td>\n",
       "      <td>Product Design (UI &amp; UX)</td>\n",
       "      <td>5.0</td>\n",
       "      <td>1</td>\n",
       "      <td>NaN</td>\n",
       "      <td>jam_kerja</td>\n",
       "    </tr>\n",
       "    <tr>\n",
       "      <th>286</th>\n",
       "      <td>puzzledFish5</td>\n",
       "      <td>106214</td>\n",
       "      <td>Data Analyst</td>\n",
       "      <td>3.0</td>\n",
       "      <td>1</td>\n",
       "      <td>NaN</td>\n",
       "      <td>NaN</td>\n",
       "    </tr>\n",
       "  </tbody>\n",
       "</table>\n",
       "<p>258 rows × 7 columns</p>\n",
       "</div>"
      ],
      "text/plain": [
       "              Username  EnterpriseID                      Pekerjaan  \\\n",
       "6            madZebra1        100309                   Data Analyst   \n",
       "7     cynicalMandrill7        110500   Software Engineer (Back End)   \n",
       "8         lyingMussel8        110533    Software Engineer (Android)   \n",
       "9         enviousMoth4        110927    Software Engineer (Android)   \n",
       "11      grizzledSnipe7        111354   Software Engineer (Back End)   \n",
       "..                 ...           ...                            ...   \n",
       "280       anxiousTeal2        111378   Software Engineer (Back End)   \n",
       "281       anxiousWasp6        100628  Software Engineer (Front End)   \n",
       "282        dopeySheep0        106034                  Data Engineer   \n",
       "283  yearningPorpoise4        106254       Product Design (UI & UX)   \n",
       "286       puzzledFish5        106214                   Data Analyst   \n",
       "\n",
       "     SkorKepuasanPegawai PernahBekerja  IkutProgramLOP   AlasanResign  \n",
       "6                    3.0             1             NaN  masih_bekerja  \n",
       "7                    5.0             1             NaN  masih_bekerja  \n",
       "8                    NaN             1             NaN  masih_bekerja  \n",
       "9                    5.0             1             NaN  masih_bekerja  \n",
       "11                   5.0             1             NaN  tidak_bahagia  \n",
       "..                   ...           ...             ...            ...  \n",
       "280                  5.0             1             NaN            NaN  \n",
       "281                  5.0             1             NaN            NaN  \n",
       "282                  5.0             1             NaN            NaN  \n",
       "283                  5.0             1             NaN      jam_kerja  \n",
       "286                  3.0             1             NaN            NaN  \n",
       "\n",
       "[258 rows x 7 columns]"
      ]
     },
     "execution_count": 178,
     "metadata": {},
     "output_type": "execute_result"
    }
   ],
   "source": [
    "result = df.loc[df['IkutProgramLOP'].isna()]\n",
    "result[['Username', 'EnterpriseID', 'Pekerjaan', 'SkorKepuasanPegawai', 'PernahBekerja', 'IkutProgramLOP', 'AlasanResign']]\n",
    "# result"
   ]
  },
  {
   "cell_type": "markdown",
   "metadata": {},
   "source": [
    "## 1.2 Handling Missing Value"
   ]
  },
  {
   "cell_type": "code",
   "execution_count": 179,
   "metadata": {},
   "outputs": [],
   "source": [
    "df_clean = df.copy()"
   ]
  },
  {
   "cell_type": "code",
   "execution_count": 180,
   "metadata": {},
   "outputs": [
    {
     "name": "stdout",
     "output_type": "stream",
     "text": [
      "\n",
      "Pengecekan Missing Values:\n"
     ]
    },
    {
     "data": {
      "text/plain": [
       "Username                                0\n",
       "EnterpriseID                            0\n",
       "StatusPernikahan                        0\n",
       "JenisKelamin                            0\n",
       "StatusKepegawaian                       0\n",
       "Pekerjaan                               0\n",
       "JenjangKarir                            0\n",
       "PerformancePegawai                      0\n",
       "AsalDaerah                              0\n",
       "HiringPlatform                          0\n",
       "SkorSurveyEngagement                    0\n",
       "SkorKepuasanPegawai                     5\n",
       "JumlahKeikutsertaanProjek               3\n",
       "JumlahKeterlambatanSebulanTerakhir      1\n",
       "JumlahKetidakhadiran                    6\n",
       "NomorHP                                 0\n",
       "Email                                   0\n",
       "TingkatPendidikan                       0\n",
       "PernahBekerja                           0\n",
       "IkutProgramLOP                        258\n",
       "AlasanResign                           66\n",
       "TanggalLahir                            0\n",
       "TanggalHiring                           0\n",
       "TanggalPenilaianKaryawan                0\n",
       "TanggalResign                           0\n",
       "dtype: int64"
      ]
     },
     "execution_count": 180,
     "metadata": {},
     "output_type": "execute_result"
    }
   ],
   "source": [
    "# Pengecekan data yang hilang\n",
    "print(\"\\nPengecekan Missing Values:\")\n",
    "df.isnull().sum()"
   ]
  },
  {
   "cell_type": "code",
   "execution_count": 181,
   "metadata": {},
   "outputs": [
    {
     "data": {
      "text/html": [
       "<div>\n",
       "<style scoped>\n",
       "    .dataframe tbody tr th:only-of-type {\n",
       "        vertical-align: middle;\n",
       "    }\n",
       "\n",
       "    .dataframe tbody tr th {\n",
       "        vertical-align: top;\n",
       "    }\n",
       "\n",
       "    .dataframe thead th {\n",
       "        text-align: right;\n",
       "    }\n",
       "</style>\n",
       "<table border=\"1\" class=\"dataframe\">\n",
       "  <thead>\n",
       "    <tr style=\"text-align: right;\">\n",
       "      <th></th>\n",
       "      <th>TanggalResign</th>\n",
       "      <th>AlasanResign</th>\n",
       "    </tr>\n",
       "  </thead>\n",
       "  <tbody>\n",
       "    <tr>\n",
       "      <th>105</th>\n",
       "      <td>-</td>\n",
       "      <td>NaN</td>\n",
       "    </tr>\n",
       "    <tr>\n",
       "      <th>187</th>\n",
       "      <td>-</td>\n",
       "      <td>NaN</td>\n",
       "    </tr>\n",
       "    <tr>\n",
       "      <th>189</th>\n",
       "      <td>-</td>\n",
       "      <td>NaN</td>\n",
       "    </tr>\n",
       "    <tr>\n",
       "      <th>190</th>\n",
       "      <td>-</td>\n",
       "      <td>NaN</td>\n",
       "    </tr>\n",
       "    <tr>\n",
       "      <th>195</th>\n",
       "      <td>-</td>\n",
       "      <td>NaN</td>\n",
       "    </tr>\n",
       "    <tr>\n",
       "      <th>...</th>\n",
       "      <td>...</td>\n",
       "      <td>...</td>\n",
       "    </tr>\n",
       "    <tr>\n",
       "      <th>279</th>\n",
       "      <td>-</td>\n",
       "      <td>NaN</td>\n",
       "    </tr>\n",
       "    <tr>\n",
       "      <th>280</th>\n",
       "      <td>-</td>\n",
       "      <td>NaN</td>\n",
       "    </tr>\n",
       "    <tr>\n",
       "      <th>281</th>\n",
       "      <td>-</td>\n",
       "      <td>NaN</td>\n",
       "    </tr>\n",
       "    <tr>\n",
       "      <th>282</th>\n",
       "      <td>-</td>\n",
       "      <td>NaN</td>\n",
       "    </tr>\n",
       "    <tr>\n",
       "      <th>286</th>\n",
       "      <td>-</td>\n",
       "      <td>NaN</td>\n",
       "    </tr>\n",
       "  </tbody>\n",
       "</table>\n",
       "<p>66 rows × 2 columns</p>\n",
       "</div>"
      ],
      "text/plain": [
       "    TanggalResign AlasanResign\n",
       "105             -          NaN\n",
       "187             -          NaN\n",
       "189             -          NaN\n",
       "190             -          NaN\n",
       "195             -          NaN\n",
       "..            ...          ...\n",
       "279             -          NaN\n",
       "280             -          NaN\n",
       "281             -          NaN\n",
       "282             -          NaN\n",
       "286             -          NaN\n",
       "\n",
       "[66 rows x 2 columns]"
      ]
     },
     "execution_count": 181,
     "metadata": {},
     "output_type": "execute_result"
    }
   ],
   "source": [
    "result = df.loc[df['AlasanResign'].isna()]\n",
    "result[['TanggalResign', 'AlasanResign']]\n",
    "# result"
   ]
  },
  {
   "cell_type": "code",
   "execution_count": 182,
   "metadata": {},
   "outputs": [
    {
     "data": {
      "text/html": [
       "<div>\n",
       "<style scoped>\n",
       "    .dataframe tbody tr th:only-of-type {\n",
       "        vertical-align: middle;\n",
       "    }\n",
       "\n",
       "    .dataframe tbody tr th {\n",
       "        vertical-align: top;\n",
       "    }\n",
       "\n",
       "    .dataframe thead th {\n",
       "        text-align: right;\n",
       "    }\n",
       "</style>\n",
       "<table border=\"1\" class=\"dataframe\">\n",
       "  <thead>\n",
       "    <tr style=\"text-align: right;\">\n",
       "      <th></th>\n",
       "      <th>Username</th>\n",
       "      <th>EnterpriseID</th>\n",
       "      <th>SkorKepuasanPegawai</th>\n",
       "      <th>Pekerjaan</th>\n",
       "    </tr>\n",
       "  </thead>\n",
       "  <tbody>\n",
       "    <tr>\n",
       "      <th>8</th>\n",
       "      <td>lyingMussel8</td>\n",
       "      <td>110533</td>\n",
       "      <td>NaN</td>\n",
       "      <td>Software Engineer (Android)</td>\n",
       "    </tr>\n",
       "    <tr>\n",
       "      <th>25</th>\n",
       "      <td>needySyrup4</td>\n",
       "      <td>101226</td>\n",
       "      <td>NaN</td>\n",
       "      <td>Product Manager</td>\n",
       "    </tr>\n",
       "    <tr>\n",
       "      <th>55</th>\n",
       "      <td>importedApricots7</td>\n",
       "      <td>105820</td>\n",
       "      <td>NaN</td>\n",
       "      <td>Software Engineer (Back End)</td>\n",
       "    </tr>\n",
       "    <tr>\n",
       "      <th>122</th>\n",
       "      <td>puzzledBurritos7</td>\n",
       "      <td>111373</td>\n",
       "      <td>NaN</td>\n",
       "      <td>Software Engineer (Android)</td>\n",
       "    </tr>\n",
       "    <tr>\n",
       "      <th>166</th>\n",
       "      <td>resolvedCod5</td>\n",
       "      <td>110380</td>\n",
       "      <td>NaN</td>\n",
       "      <td>Product Design (UI &amp; UX)</td>\n",
       "    </tr>\n",
       "  </tbody>\n",
       "</table>\n",
       "</div>"
      ],
      "text/plain": [
       "              Username  EnterpriseID  SkorKepuasanPegawai  \\\n",
       "8         lyingMussel8        110533                  NaN   \n",
       "25         needySyrup4        101226                  NaN   \n",
       "55   importedApricots7        105820                  NaN   \n",
       "122   puzzledBurritos7        111373                  NaN   \n",
       "166       resolvedCod5        110380                  NaN   \n",
       "\n",
       "                        Pekerjaan  \n",
       "8     Software Engineer (Android)  \n",
       "25                Product Manager  \n",
       "55   Software Engineer (Back End)  \n",
       "122   Software Engineer (Android)  \n",
       "166      Product Design (UI & UX)  "
      ]
     },
     "execution_count": 182,
     "metadata": {},
     "output_type": "execute_result"
    }
   ],
   "source": [
    "result = df.loc[df['SkorKepuasanPegawai'].isna()]\n",
    "result[['Username', 'EnterpriseID', 'SkorKepuasanPegawai','Pekerjaan']]"
   ]
  },
  {
   "cell_type": "code",
   "execution_count": 183,
   "metadata": {},
   "outputs": [
    {
     "name": "stderr",
     "output_type": "stream",
     "text": [
      "C:\\Users\\WINDOWS\\AppData\\Local\\Temp\\ipykernel_33768\\2519136392.py:2: FutureWarning:\n",
      "\n",
      "A value is trying to be set on a copy of a DataFrame or Series through chained assignment using an inplace method.\n",
      "The behavior will change in pandas 3.0. This inplace method will never work because the intermediate object on which we are setting values always behaves as a copy.\n",
      "\n",
      "For example, when doing 'df[col].method(value, inplace=True)', try using 'df.method({col: value}, inplace=True)' or df[col] = df[col].method(value) instead, to perform the operation inplace on the original object.\n",
      "\n",
      "\n",
      "\n",
      "C:\\Users\\WINDOWS\\AppData\\Local\\Temp\\ipykernel_33768\\2519136392.py:5: FutureWarning:\n",
      "\n",
      "A value is trying to be set on a copy of a DataFrame or Series through chained assignment using an inplace method.\n",
      "The behavior will change in pandas 3.0. This inplace method will never work because the intermediate object on which we are setting values always behaves as a copy.\n",
      "\n",
      "For example, when doing 'df[col].method(value, inplace=True)', try using 'df.method({col: value}, inplace=True)' or df[col] = df[col].method(value) instead, to perform the operation inplace on the original object.\n",
      "\n",
      "\n",
      "\n",
      "C:\\Users\\WINDOWS\\AppData\\Local\\Temp\\ipykernel_33768\\2519136392.py:8: FutureWarning:\n",
      "\n",
      "A value is trying to be set on a copy of a DataFrame or Series through chained assignment using an inplace method.\n",
      "The behavior will change in pandas 3.0. This inplace method will never work because the intermediate object on which we are setting values always behaves as a copy.\n",
      "\n",
      "For example, when doing 'df[col].method(value, inplace=True)', try using 'df.method({col: value}, inplace=True)' or df[col] = df[col].method(value) instead, to perform the operation inplace on the original object.\n",
      "\n",
      "\n",
      "\n",
      "C:\\Users\\WINDOWS\\AppData\\Local\\Temp\\ipykernel_33768\\2519136392.py:11: FutureWarning:\n",
      "\n",
      "A value is trying to be set on a copy of a DataFrame or Series through chained assignment using an inplace method.\n",
      "The behavior will change in pandas 3.0. This inplace method will never work because the intermediate object on which we are setting values always behaves as a copy.\n",
      "\n",
      "For example, when doing 'df[col].method(value, inplace=True)', try using 'df.method({col: value}, inplace=True)' or df[col] = df[col].method(value) instead, to perform the operation inplace on the original object.\n",
      "\n",
      "\n",
      "\n",
      "C:\\Users\\WINDOWS\\AppData\\Local\\Temp\\ipykernel_33768\\2519136392.py:14: FutureWarning:\n",
      "\n",
      "A value is trying to be set on a copy of a DataFrame or Series through chained assignment using an inplace method.\n",
      "The behavior will change in pandas 3.0. This inplace method will never work because the intermediate object on which we are setting values always behaves as a copy.\n",
      "\n",
      "For example, when doing 'df[col].method(value, inplace=True)', try using 'df.method({col: value}, inplace=True)' or df[col] = df[col].method(value) instead, to perform the operation inplace on the original object.\n",
      "\n",
      "\n",
      "\n"
     ]
    }
   ],
   "source": [
    "# Mengisi nilai null pada Kolom 'SkorKepuasanPegawai' dengan Modus\n",
    "df_clean['SkorKepuasanPegawai'].fillna(df_clean['SkorKepuasanPegawai'].mode()[0], inplace=True)\n",
    "\n",
    "# Mengisi nilai null pada Kolom 'JumlahKeikutsertaanProjek' dengan Modus\n",
    "df_clean['JumlahKeikutsertaanProjek'].fillna(df_clean['JumlahKeikutsertaanProjek'].mode()[0], inplace=True)\n",
    "\n",
    "# Mengisi nilai null pada Kolom 'JumlahKeterlambatanSebulanTerakhir' dengan Modus\n",
    "df_clean['JumlahKeterlambatanSebulanTerakhir'].fillna(df_clean['JumlahKeterlambatanSebulanTerakhir'].mode()[0], inplace=True)\n",
    "\n",
    "# Mengisi nilai null pada Kolom 'JumlahKetidakhadiran' dengan Modus\n",
    "df_clean['JumlahKetidakhadiran'].fillna(df_clean['JumlahKetidakhadiran'].mode()[0], inplace=True)\n",
    "\n",
    "# Mengisi nilai null pada Kolom 'AlasanResign' dengan 'masih_bekerja'\n",
    "df_clean['AlasanResign'].fillna('masih_bekerja', inplace=True)"
   ]
  },
  {
   "cell_type": "markdown",
   "metadata": {},
   "source": [
    "- Melakukan handling missing value pada fitur SkorKepuasanPegawai, JumlahKeikutsertaanProjek, JumlahKeterlambatanSebulanTerakhir, dan JumlahKetidakhadiran dengan mengisinya menggunakan modus.\n",
    "\n",
    "- Melakukan handling missing value pada fitur AlasanResign dengan mengisi nilainya menjadi masih_bekerja karena pada fitur TanggalResign masih kosong (belum ada tanggalnya)."
   ]
  },
  {
   "cell_type": "code",
   "execution_count": 184,
   "metadata": {},
   "outputs": [
    {
     "data": {
      "text/html": [
       "<div>\n",
       "<style scoped>\n",
       "    .dataframe tbody tr th:only-of-type {\n",
       "        vertical-align: middle;\n",
       "    }\n",
       "\n",
       "    .dataframe tbody tr th {\n",
       "        vertical-align: top;\n",
       "    }\n",
       "\n",
       "    .dataframe thead th {\n",
       "        text-align: right;\n",
       "    }\n",
       "</style>\n",
       "<table border=\"1\" class=\"dataframe\">\n",
       "  <thead>\n",
       "    <tr style=\"text-align: right;\">\n",
       "      <th></th>\n",
       "      <th>Username</th>\n",
       "      <th>EnterpriseID</th>\n",
       "      <th>SkorKepuasanPegawai</th>\n",
       "      <th>Pekerjaan</th>\n",
       "    </tr>\n",
       "  </thead>\n",
       "  <tbody>\n",
       "  </tbody>\n",
       "</table>\n",
       "</div>"
      ],
      "text/plain": [
       "Empty DataFrame\n",
       "Columns: [Username, EnterpriseID, SkorKepuasanPegawai, Pekerjaan]\n",
       "Index: []"
      ]
     },
     "execution_count": 184,
     "metadata": {},
     "output_type": "execute_result"
    }
   ],
   "source": [
    "result = df_clean.loc[df_clean['AlasanResign'].isna()]\n",
    "result[['Username', 'EnterpriseID', 'SkorKepuasanPegawai','Pekerjaan']]"
   ]
  },
  {
   "cell_type": "markdown",
   "metadata": {},
   "source": [
    "## 1.3 Drop Features"
   ]
  },
  {
   "cell_type": "code",
   "execution_count": 185,
   "metadata": {},
   "outputs": [
    {
     "name": "stdout",
     "output_type": "stream",
     "text": [
      "Jumlah kolom setelah drop features : 21\n"
     ]
    }
   ],
   "source": [
    "# Menghapus Fitur yang Tidak Diperlukan\n",
    "drop_features = ['Username', 'EnterpriseID', 'PernahBekerja', 'IkutProgramLOP']\n",
    "\n",
    "# df.drop(drop_features, axis=1, inplace=True)\n",
    "df_clean = df_clean.drop(drop_features, axis=1, inplace=False)\n",
    "print(f\"Jumlah kolom setelah drop features : {df_clean.shape[1]}\")"
   ]
  },
  {
   "cell_type": "markdown",
   "metadata": {},
   "source": [
    "- Fitur-fitur yang dihapus yakni fitur-fitur yang tidak diperlukan dan fitur yang terlalu banyak missing valuenya seperti 'Username', 'EnterpriseID', 'PernahBekerja', dan 'IkutProgramLOP'."
   ]
  },
  {
   "cell_type": "markdown",
   "metadata": {},
   "source": [
    "# 2. Annual Report on Employee Number Changes"
   ]
  },
  {
   "cell_type": "markdown",
   "metadata": {},
   "source": [
    "## 2.1 Aggregate Table"
   ]
  },
  {
   "cell_type": "code",
   "execution_count": 186,
   "metadata": {},
   "outputs": [
    {
     "data": {
      "text/html": [
       "<div>\n",
       "<style scoped>\n",
       "    .dataframe tbody tr th:only-of-type {\n",
       "        vertical-align: middle;\n",
       "    }\n",
       "\n",
       "    .dataframe tbody tr th {\n",
       "        vertical-align: top;\n",
       "    }\n",
       "\n",
       "    .dataframe thead th {\n",
       "        text-align: right;\n",
       "    }\n",
       "</style>\n",
       "<table border=\"1\" class=\"dataframe\">\n",
       "  <thead>\n",
       "    <tr style=\"text-align: right;\">\n",
       "      <th></th>\n",
       "      <th>StatusPernikahan</th>\n",
       "      <th>JenisKelamin</th>\n",
       "      <th>StatusKepegawaian</th>\n",
       "      <th>Pekerjaan</th>\n",
       "      <th>JenjangKarir</th>\n",
       "      <th>PerformancePegawai</th>\n",
       "      <th>AsalDaerah</th>\n",
       "      <th>HiringPlatform</th>\n",
       "      <th>SkorSurveyEngagement</th>\n",
       "      <th>SkorKepuasanPegawai</th>\n",
       "      <th>...</th>\n",
       "      <th>JumlahKeterlambatanSebulanTerakhir</th>\n",
       "      <th>JumlahKetidakhadiran</th>\n",
       "      <th>NomorHP</th>\n",
       "      <th>Email</th>\n",
       "      <th>TingkatPendidikan</th>\n",
       "      <th>AlasanResign</th>\n",
       "      <th>TanggalLahir</th>\n",
       "      <th>TanggalHiring</th>\n",
       "      <th>TanggalPenilaianKaryawan</th>\n",
       "      <th>TanggalResign</th>\n",
       "    </tr>\n",
       "  </thead>\n",
       "  <tbody>\n",
       "    <tr>\n",
       "      <th>0</th>\n",
       "      <td>Belum_menikah</td>\n",
       "      <td>Pria</td>\n",
       "      <td>Outsource</td>\n",
       "      <td>Software Engineer (Back End)</td>\n",
       "      <td>Freshgraduate_program</td>\n",
       "      <td>Sangat_bagus</td>\n",
       "      <td>Jakarta Timur</td>\n",
       "      <td>Employee_Referral</td>\n",
       "      <td>4</td>\n",
       "      <td>4.0</td>\n",
       "      <td>...</td>\n",
       "      <td>0.0</td>\n",
       "      <td>9.0</td>\n",
       "      <td>+6282232522xxx</td>\n",
       "      <td>spiritedPorpoise3135@yahoo.com</td>\n",
       "      <td>Magister</td>\n",
       "      <td>masih_bekerja</td>\n",
       "      <td>1972-07-01</td>\n",
       "      <td>2011-01-10</td>\n",
       "      <td>2016-2-15</td>\n",
       "      <td>-</td>\n",
       "    </tr>\n",
       "    <tr>\n",
       "      <th>1</th>\n",
       "      <td>Belum_menikah</td>\n",
       "      <td>Pria</td>\n",
       "      <td>FullTime</td>\n",
       "      <td>Data Analyst</td>\n",
       "      <td>Freshgraduate_program</td>\n",
       "      <td>Sangat_kurang</td>\n",
       "      <td>Jakarta Utara</td>\n",
       "      <td>Website</td>\n",
       "      <td>4</td>\n",
       "      <td>4.0</td>\n",
       "      <td>...</td>\n",
       "      <td>0.0</td>\n",
       "      <td>3.0</td>\n",
       "      <td>+6281270745xxx</td>\n",
       "      <td>jealousGelding2239@yahoo.com</td>\n",
       "      <td>Sarjana</td>\n",
       "      <td>toxic_culture</td>\n",
       "      <td>1984-04-26</td>\n",
       "      <td>2014-01-06</td>\n",
       "      <td>2020-1-17</td>\n",
       "      <td>2018-6-16</td>\n",
       "    </tr>\n",
       "    <tr>\n",
       "      <th>2</th>\n",
       "      <td>Menikah</td>\n",
       "      <td>Pria</td>\n",
       "      <td>FullTime</td>\n",
       "      <td>Software Engineer (Front End)</td>\n",
       "      <td>Freshgraduate_program</td>\n",
       "      <td>Bagus</td>\n",
       "      <td>Jakarta Timur</td>\n",
       "      <td>Indeed</td>\n",
       "      <td>4</td>\n",
       "      <td>3.0</td>\n",
       "      <td>...</td>\n",
       "      <td>0.0</td>\n",
       "      <td>11.0</td>\n",
       "      <td>+6281346215xxx</td>\n",
       "      <td>pluckyMuesli3961@icloud.com</td>\n",
       "      <td>Magister</td>\n",
       "      <td>jam_kerja</td>\n",
       "      <td>1974-01-07</td>\n",
       "      <td>2011-01-10</td>\n",
       "      <td>2016-01-10</td>\n",
       "      <td>2014-9-24</td>\n",
       "    </tr>\n",
       "    <tr>\n",
       "      <th>3</th>\n",
       "      <td>Belum_menikah</td>\n",
       "      <td>Pria</td>\n",
       "      <td>Outsource</td>\n",
       "      <td>Software Engineer (Front End)</td>\n",
       "      <td>Freshgraduate_program</td>\n",
       "      <td>Bagus</td>\n",
       "      <td>Jakarta Pusat</td>\n",
       "      <td>LinkedIn</td>\n",
       "      <td>3</td>\n",
       "      <td>3.0</td>\n",
       "      <td>...</td>\n",
       "      <td>4.0</td>\n",
       "      <td>6.0</td>\n",
       "      <td>+6283233846xxx</td>\n",
       "      <td>stressedTruffle1406@hotmail.com</td>\n",
       "      <td>Sarjana</td>\n",
       "      <td>masih_bekerja</td>\n",
       "      <td>1979-11-24</td>\n",
       "      <td>2014-2-17</td>\n",
       "      <td>2020-02-04</td>\n",
       "      <td>-</td>\n",
       "    </tr>\n",
       "    <tr>\n",
       "      <th>4</th>\n",
       "      <td>Belum_menikah</td>\n",
       "      <td>Wanita</td>\n",
       "      <td>FullTime</td>\n",
       "      <td>Product Manager</td>\n",
       "      <td>Freshgraduate_program</td>\n",
       "      <td>Bagus</td>\n",
       "      <td>Jakarta Timur</td>\n",
       "      <td>LinkedIn</td>\n",
       "      <td>3</td>\n",
       "      <td>3.0</td>\n",
       "      <td>...</td>\n",
       "      <td>0.0</td>\n",
       "      <td>11.0</td>\n",
       "      <td>+6287883263xxx</td>\n",
       "      <td>shyTermite7149@gmail.com</td>\n",
       "      <td>Sarjana</td>\n",
       "      <td>ganti_karir</td>\n",
       "      <td>1974-11-07</td>\n",
       "      <td>2013-11-11</td>\n",
       "      <td>2020-1-22</td>\n",
       "      <td>2018-09-06</td>\n",
       "    </tr>\n",
       "    <tr>\n",
       "      <th>...</th>\n",
       "      <td>...</td>\n",
       "      <td>...</td>\n",
       "      <td>...</td>\n",
       "      <td>...</td>\n",
       "      <td>...</td>\n",
       "      <td>...</td>\n",
       "      <td>...</td>\n",
       "      <td>...</td>\n",
       "      <td>...</td>\n",
       "      <td>...</td>\n",
       "      <td>...</td>\n",
       "      <td>...</td>\n",
       "      <td>...</td>\n",
       "      <td>...</td>\n",
       "      <td>...</td>\n",
       "      <td>...</td>\n",
       "      <td>...</td>\n",
       "      <td>...</td>\n",
       "      <td>...</td>\n",
       "      <td>...</td>\n",
       "      <td>...</td>\n",
       "    </tr>\n",
       "    <tr>\n",
       "      <th>282</th>\n",
       "      <td>Belum_menikah</td>\n",
       "      <td>Wanita</td>\n",
       "      <td>FullTime</td>\n",
       "      <td>Data Engineer</td>\n",
       "      <td>Mid_level</td>\n",
       "      <td>Bagus</td>\n",
       "      <td>Jakarta Pusat</td>\n",
       "      <td>Google_Search</td>\n",
       "      <td>2</td>\n",
       "      <td>5.0</td>\n",
       "      <td>...</td>\n",
       "      <td>0.0</td>\n",
       "      <td>16.0</td>\n",
       "      <td>+6283343465xxx</td>\n",
       "      <td>dopeySheep0297@icloud.com</td>\n",
       "      <td>Sarjana</td>\n",
       "      <td>masih_bekerja</td>\n",
       "      <td>1973-12-08</td>\n",
       "      <td>2011-9-26</td>\n",
       "      <td>2016-03-01</td>\n",
       "      <td>-</td>\n",
       "    </tr>\n",
       "    <tr>\n",
       "      <th>283</th>\n",
       "      <td>-</td>\n",
       "      <td>Wanita</td>\n",
       "      <td>FullTime</td>\n",
       "      <td>Product Design (UI &amp; UX)</td>\n",
       "      <td>Freshgraduate_program</td>\n",
       "      <td>Biasa</td>\n",
       "      <td>Jakarta Timur</td>\n",
       "      <td>LinkedIn</td>\n",
       "      <td>4</td>\n",
       "      <td>5.0</td>\n",
       "      <td>...</td>\n",
       "      <td>0.0</td>\n",
       "      <td>11.0</td>\n",
       "      <td>+6281222782xxx</td>\n",
       "      <td>yearningPorpoise4421@yahoo.com</td>\n",
       "      <td>Sarjana</td>\n",
       "      <td>jam_kerja</td>\n",
       "      <td>1974-12-01</td>\n",
       "      <td>2013-5-13</td>\n",
       "      <td>2020-1-28</td>\n",
       "      <td>2017-11-15</td>\n",
       "    </tr>\n",
       "    <tr>\n",
       "      <th>284</th>\n",
       "      <td>Menikah</td>\n",
       "      <td>Wanita</td>\n",
       "      <td>FullTime</td>\n",
       "      <td>Software Engineer (Front End)</td>\n",
       "      <td>Senior_level</td>\n",
       "      <td>Biasa</td>\n",
       "      <td>Jakarta Pusat</td>\n",
       "      <td>Diversity_Job_Fair</td>\n",
       "      <td>2</td>\n",
       "      <td>5.0</td>\n",
       "      <td>...</td>\n",
       "      <td>0.0</td>\n",
       "      <td>17.0</td>\n",
       "      <td>+6285821950xxx</td>\n",
       "      <td>murkySausage9688@yahoo.com</td>\n",
       "      <td>Sarjana</td>\n",
       "      <td>ganti_karir</td>\n",
       "      <td>1969-10-30</td>\n",
       "      <td>2013-11-11</td>\n",
       "      <td>2020-1-21</td>\n",
       "      <td>2018-06-08</td>\n",
       "    </tr>\n",
       "    <tr>\n",
       "      <th>285</th>\n",
       "      <td>Belum_menikah</td>\n",
       "      <td>Pria</td>\n",
       "      <td>FullTime</td>\n",
       "      <td>Software Engineer (Android)</td>\n",
       "      <td>Mid_level</td>\n",
       "      <td>Bagus</td>\n",
       "      <td>Jakarta Utara</td>\n",
       "      <td>Google_Search</td>\n",
       "      <td>4</td>\n",
       "      <td>5.0</td>\n",
       "      <td>...</td>\n",
       "      <td>0.0</td>\n",
       "      <td>20.0</td>\n",
       "      <td>+6287787391xxx</td>\n",
       "      <td>truthfulMoth4663@yahoo.com</td>\n",
       "      <td>Sarjana</td>\n",
       "      <td>kejelasan_karir</td>\n",
       "      <td>1981-10-01</td>\n",
       "      <td>2011-5-16</td>\n",
       "      <td>2014-04-05</td>\n",
       "      <td>2018-04-01</td>\n",
       "    </tr>\n",
       "    <tr>\n",
       "      <th>286</th>\n",
       "      <td>Menikah</td>\n",
       "      <td>Pria</td>\n",
       "      <td>Internship</td>\n",
       "      <td>Data Analyst</td>\n",
       "      <td>Mid_level</td>\n",
       "      <td>Bagus</td>\n",
       "      <td>Jakarta Barat</td>\n",
       "      <td>Indeed</td>\n",
       "      <td>4</td>\n",
       "      <td>3.0</td>\n",
       "      <td>...</td>\n",
       "      <td>0.0</td>\n",
       "      <td>2.0</td>\n",
       "      <td>+6287722818xxx</td>\n",
       "      <td>puzzledFish5776@hotmail.com</td>\n",
       "      <td>Sarjana</td>\n",
       "      <td>masih_bekerja</td>\n",
       "      <td>1981-08-10</td>\n",
       "      <td>2012-8-16</td>\n",
       "      <td>2020-1-14</td>\n",
       "      <td>-</td>\n",
       "    </tr>\n",
       "  </tbody>\n",
       "</table>\n",
       "<p>287 rows × 21 columns</p>\n",
       "</div>"
      ],
      "text/plain": [
       "    StatusPernikahan JenisKelamin StatusKepegawaian  \\\n",
       "0      Belum_menikah         Pria         Outsource   \n",
       "1      Belum_menikah         Pria          FullTime   \n",
       "2            Menikah         Pria          FullTime   \n",
       "3      Belum_menikah         Pria         Outsource   \n",
       "4      Belum_menikah       Wanita          FullTime   \n",
       "..               ...          ...               ...   \n",
       "282    Belum_menikah       Wanita          FullTime   \n",
       "283                -       Wanita          FullTime   \n",
       "284          Menikah       Wanita          FullTime   \n",
       "285    Belum_menikah         Pria          FullTime   \n",
       "286          Menikah         Pria        Internship   \n",
       "\n",
       "                         Pekerjaan           JenjangKarir PerformancePegawai  \\\n",
       "0     Software Engineer (Back End)  Freshgraduate_program       Sangat_bagus   \n",
       "1                     Data Analyst  Freshgraduate_program      Sangat_kurang   \n",
       "2    Software Engineer (Front End)  Freshgraduate_program              Bagus   \n",
       "3    Software Engineer (Front End)  Freshgraduate_program              Bagus   \n",
       "4                  Product Manager  Freshgraduate_program              Bagus   \n",
       "..                             ...                    ...                ...   \n",
       "282                  Data Engineer              Mid_level              Bagus   \n",
       "283       Product Design (UI & UX)  Freshgraduate_program              Biasa   \n",
       "284  Software Engineer (Front End)           Senior_level              Biasa   \n",
       "285    Software Engineer (Android)              Mid_level              Bagus   \n",
       "286                   Data Analyst              Mid_level              Bagus   \n",
       "\n",
       "        AsalDaerah      HiringPlatform  SkorSurveyEngagement  \\\n",
       "0    Jakarta Timur   Employee_Referral                     4   \n",
       "1    Jakarta Utara             Website                     4   \n",
       "2    Jakarta Timur              Indeed                     4   \n",
       "3    Jakarta Pusat            LinkedIn                     3   \n",
       "4    Jakarta Timur            LinkedIn                     3   \n",
       "..             ...                 ...                   ...   \n",
       "282  Jakarta Pusat       Google_Search                     2   \n",
       "283  Jakarta Timur            LinkedIn                     4   \n",
       "284  Jakarta Pusat  Diversity_Job_Fair                     2   \n",
       "285  Jakarta Utara       Google_Search                     4   \n",
       "286  Jakarta Barat              Indeed                     4   \n",
       "\n",
       "     SkorKepuasanPegawai  ...  JumlahKeterlambatanSebulanTerakhir  \\\n",
       "0                    4.0  ...                                 0.0   \n",
       "1                    4.0  ...                                 0.0   \n",
       "2                    3.0  ...                                 0.0   \n",
       "3                    3.0  ...                                 4.0   \n",
       "4                    3.0  ...                                 0.0   \n",
       "..                   ...  ...                                 ...   \n",
       "282                  5.0  ...                                 0.0   \n",
       "283                  5.0  ...                                 0.0   \n",
       "284                  5.0  ...                                 0.0   \n",
       "285                  5.0  ...                                 0.0   \n",
       "286                  3.0  ...                                 0.0   \n",
       "\n",
       "     JumlahKetidakhadiran         NomorHP                            Email  \\\n",
       "0                     9.0  +6282232522xxx   spiritedPorpoise3135@yahoo.com   \n",
       "1                     3.0  +6281270745xxx     jealousGelding2239@yahoo.com   \n",
       "2                    11.0  +6281346215xxx      pluckyMuesli3961@icloud.com   \n",
       "3                     6.0  +6283233846xxx  stressedTruffle1406@hotmail.com   \n",
       "4                    11.0  +6287883263xxx         shyTermite7149@gmail.com   \n",
       "..                    ...             ...                              ...   \n",
       "282                  16.0  +6283343465xxx        dopeySheep0297@icloud.com   \n",
       "283                  11.0  +6281222782xxx   yearningPorpoise4421@yahoo.com   \n",
       "284                  17.0  +6285821950xxx       murkySausage9688@yahoo.com   \n",
       "285                  20.0  +6287787391xxx       truthfulMoth4663@yahoo.com   \n",
       "286                   2.0  +6287722818xxx      puzzledFish5776@hotmail.com   \n",
       "\n",
       "    TingkatPendidikan     AlasanResign TanggalLahir TanggalHiring  \\\n",
       "0            Magister    masih_bekerja   1972-07-01    2011-01-10   \n",
       "1             Sarjana    toxic_culture   1984-04-26    2014-01-06   \n",
       "2            Magister        jam_kerja   1974-01-07    2011-01-10   \n",
       "3             Sarjana    masih_bekerja   1979-11-24     2014-2-17   \n",
       "4             Sarjana      ganti_karir   1974-11-07    2013-11-11   \n",
       "..                ...              ...          ...           ...   \n",
       "282           Sarjana    masih_bekerja   1973-12-08     2011-9-26   \n",
       "283           Sarjana        jam_kerja   1974-12-01     2013-5-13   \n",
       "284           Sarjana      ganti_karir   1969-10-30    2013-11-11   \n",
       "285           Sarjana  kejelasan_karir   1981-10-01     2011-5-16   \n",
       "286           Sarjana    masih_bekerja   1981-08-10     2012-8-16   \n",
       "\n",
       "    TanggalPenilaianKaryawan TanggalResign  \n",
       "0                  2016-2-15             -  \n",
       "1                  2020-1-17     2018-6-16  \n",
       "2                 2016-01-10     2014-9-24  \n",
       "3                 2020-02-04             -  \n",
       "4                  2020-1-22    2018-09-06  \n",
       "..                       ...           ...  \n",
       "282               2016-03-01             -  \n",
       "283                2020-1-28    2017-11-15  \n",
       "284                2020-1-21    2018-06-08  \n",
       "285               2014-04-05    2018-04-01  \n",
       "286                2020-1-14             -  \n",
       "\n",
       "[287 rows x 21 columns]"
      ]
     },
     "execution_count": 186,
     "metadata": {},
     "output_type": "execute_result"
    }
   ],
   "source": [
    "df_clean"
   ]
  },
  {
   "cell_type": "code",
   "execution_count": 187,
   "metadata": {},
   "outputs": [],
   "source": [
    "# Membuat tabel agregat jumlah karyawan yang masuk dan keluar berdasarkan tahun hiring dan resign\n",
    "df_clean['TahunHiring'] = pd.to_datetime(df_clean['TanggalHiring'], format='%Y-%m-%d', errors='coerce').dt.year\n",
    "df_clean['TahunResign'] = pd.to_datetime(df_clean['TanggalResign'], format='%Y-%m-%d', errors='coerce').dt.year"
   ]
  },
  {
   "cell_type": "code",
   "execution_count": 188,
   "metadata": {},
   "outputs": [],
   "source": [
    "# Agregat jumlah karyawan yang masuk per tahun (berdasarkan TahunHiring)\n",
    "hire_count = df_clean.groupby('TahunHiring').size().reset_index(name='JumlahKaryawanMasuk')"
   ]
  },
  {
   "cell_type": "code",
   "execution_count": 189,
   "metadata": {},
   "outputs": [],
   "source": [
    "# Agregat jumlah karyawan yang keluar per tahun (berdasarkan TahunResign)\n",
    "resign_count = df_clean.groupby('TahunResign').size().reset_index(name='JumlahKaryawanKeluar')"
   ]
  },
  {
   "cell_type": "markdown",
   "metadata": {},
   "source": [
    "## 2.2 Join Table"
   ]
  },
  {
   "cell_type": "code",
   "execution_count": 190,
   "metadata": {},
   "outputs": [],
   "source": [
    "# Join dua tabel tersebut berdasarkan tahun\n",
    "merged_df = pd.merge(hire_count, resign_count, left_on='TahunHiring', right_on='TahunResign', how='outer', suffixes=('_Hire', '_Resign'))"
   ]
  },
  {
   "cell_type": "markdown",
   "metadata": {},
   "source": [
    "## 2.3 Imputation Missing Values"
   ]
  },
  {
   "cell_type": "code",
   "execution_count": 191,
   "metadata": {},
   "outputs": [
    {
     "name": "stderr",
     "output_type": "stream",
     "text": [
      "C:\\Users\\WINDOWS\\AppData\\Local\\Temp\\ipykernel_33768\\932283920.py:2: FutureWarning:\n",
      "\n",
      "A value is trying to be set on a copy of a DataFrame or Series through chained assignment using an inplace method.\n",
      "The behavior will change in pandas 3.0. This inplace method will never work because the intermediate object on which we are setting values always behaves as a copy.\n",
      "\n",
      "For example, when doing 'df[col].method(value, inplace=True)', try using 'df.method({col: value}, inplace=True)' or df[col] = df[col].method(value) instead, to perform the operation inplace on the original object.\n",
      "\n",
      "\n",
      "\n",
      "C:\\Users\\WINDOWS\\AppData\\Local\\Temp\\ipykernel_33768\\932283920.py:3: FutureWarning:\n",
      "\n",
      "A value is trying to be set on a copy of a DataFrame or Series through chained assignment using an inplace method.\n",
      "The behavior will change in pandas 3.0. This inplace method will never work because the intermediate object on which we are setting values always behaves as a copy.\n",
      "\n",
      "For example, when doing 'df[col].method(value, inplace=True)', try using 'df.method({col: value}, inplace=True)' or df[col] = df[col].method(value) instead, to perform the operation inplace on the original object.\n",
      "\n",
      "\n",
      "\n"
     ]
    }
   ],
   "source": [
    "# Melakukan imputation pada data tahun yang kosong (fillna dengan 0 untuk yang tidak ada)\n",
    "merged_df['JumlahKaryawanMasuk'].fillna(0, inplace=True)\n",
    "merged_df['JumlahKaryawanKeluar'].fillna(0, inplace=True)"
   ]
  },
  {
   "cell_type": "code",
   "execution_count": 192,
   "metadata": {},
   "outputs": [],
   "source": [
    "# Menyusun tabel sehingga semua data berurut sesuai tahun\n",
    "merged_df['Tahun'] = merged_df['TahunHiring'].combine_first(merged_df['TahunResign']).astype(int)\n",
    "merged_df.sort_values('Tahun', inplace=True)"
   ]
  },
  {
   "cell_type": "markdown",
   "metadata": {},
   "source": [
    "## 2.4 Calculate Total Employees by Status"
   ]
  },
  {
   "cell_type": "code",
   "execution_count": 193,
   "metadata": {},
   "outputs": [],
   "source": [
    "# Menghitung total karyawan yang resign, yang masih bertahan, dan perubahan setiap tahunnya\n",
    "merged_df['TotalKaryawan'] = merged_df['JumlahKaryawanMasuk'].cumsum() - merged_df['JumlahKaryawanKeluar'].cumsum()\n",
    "merged_df['PerubahanKaryawan'] = merged_df['JumlahKaryawanMasuk'] - merged_df['JumlahKaryawanKeluar']"
   ]
  },
  {
   "cell_type": "markdown",
   "metadata": {},
   "source": [
    "## 2.5 Visualization of Changes in The Number of Employees "
   ]
  },
  {
   "cell_type": "code",
   "execution_count": 194,
   "metadata": {},
   "outputs": [
    {
     "data": {
      "application/vnd.plotly.v1+json": {
       "config": {
        "plotlyServerURL": "https://plot.ly"
       },
       "data": [
        {
         "connector": {
          "line": {
           "color": "rgb(63, 63, 63)"
          }
         },
         "measure": [
          "relative",
          "relative",
          "relative",
          "relative",
          "relative",
          "relative",
          "relative",
          "relative",
          "relative",
          "relative",
          "relative",
          "relative",
          "relative",
          "relative",
          "relative"
         ],
         "name": "Perubahan Karyawan",
         "orientation": "v",
         "text": [
          1,
          2,
          2,
          7,
          8,
          76,
          41,
          38,
          44,
          23,
          6,
          -14,
          -25,
          -5,
          -6
         ],
         "type": "waterfall",
         "x": [
          2006,
          2007,
          2008,
          2009,
          2010,
          2011,
          2012,
          2013,
          2014,
          2015,
          2016,
          2017,
          2018,
          2019,
          2020
         ],
         "y": [
          1,
          2,
          2,
          7,
          8,
          76,
          41,
          38,
          44,
          23,
          6,
          -14,
          -25,
          -5,
          -6
         ]
        }
       ],
       "layout": {
        "showlegend": true,
        "template": {
         "data": {
          "bar": [
           {
            "error_x": {
             "color": "#2a3f5f"
            },
            "error_y": {
             "color": "#2a3f5f"
            },
            "marker": {
             "line": {
              "color": "#E5ECF6",
              "width": 0.5
             },
             "pattern": {
              "fillmode": "overlay",
              "size": 10,
              "solidity": 0.2
             }
            },
            "type": "bar"
           }
          ],
          "barpolar": [
           {
            "marker": {
             "line": {
              "color": "#E5ECF6",
              "width": 0.5
             },
             "pattern": {
              "fillmode": "overlay",
              "size": 10,
              "solidity": 0.2
             }
            },
            "type": "barpolar"
           }
          ],
          "carpet": [
           {
            "aaxis": {
             "endlinecolor": "#2a3f5f",
             "gridcolor": "white",
             "linecolor": "white",
             "minorgridcolor": "white",
             "startlinecolor": "#2a3f5f"
            },
            "baxis": {
             "endlinecolor": "#2a3f5f",
             "gridcolor": "white",
             "linecolor": "white",
             "minorgridcolor": "white",
             "startlinecolor": "#2a3f5f"
            },
            "type": "carpet"
           }
          ],
          "choropleth": [
           {
            "colorbar": {
             "outlinewidth": 0,
             "ticks": ""
            },
            "type": "choropleth"
           }
          ],
          "contour": [
           {
            "colorbar": {
             "outlinewidth": 0,
             "ticks": ""
            },
            "colorscale": [
             [
              0,
              "#0d0887"
             ],
             [
              0.1111111111111111,
              "#46039f"
             ],
             [
              0.2222222222222222,
              "#7201a8"
             ],
             [
              0.3333333333333333,
              "#9c179e"
             ],
             [
              0.4444444444444444,
              "#bd3786"
             ],
             [
              0.5555555555555556,
              "#d8576b"
             ],
             [
              0.6666666666666666,
              "#ed7953"
             ],
             [
              0.7777777777777778,
              "#fb9f3a"
             ],
             [
              0.8888888888888888,
              "#fdca26"
             ],
             [
              1,
              "#f0f921"
             ]
            ],
            "type": "contour"
           }
          ],
          "contourcarpet": [
           {
            "colorbar": {
             "outlinewidth": 0,
             "ticks": ""
            },
            "type": "contourcarpet"
           }
          ],
          "heatmap": [
           {
            "colorbar": {
             "outlinewidth": 0,
             "ticks": ""
            },
            "colorscale": [
             [
              0,
              "#0d0887"
             ],
             [
              0.1111111111111111,
              "#46039f"
             ],
             [
              0.2222222222222222,
              "#7201a8"
             ],
             [
              0.3333333333333333,
              "#9c179e"
             ],
             [
              0.4444444444444444,
              "#bd3786"
             ],
             [
              0.5555555555555556,
              "#d8576b"
             ],
             [
              0.6666666666666666,
              "#ed7953"
             ],
             [
              0.7777777777777778,
              "#fb9f3a"
             ],
             [
              0.8888888888888888,
              "#fdca26"
             ],
             [
              1,
              "#f0f921"
             ]
            ],
            "type": "heatmap"
           }
          ],
          "heatmapgl": [
           {
            "colorbar": {
             "outlinewidth": 0,
             "ticks": ""
            },
            "colorscale": [
             [
              0,
              "#0d0887"
             ],
             [
              0.1111111111111111,
              "#46039f"
             ],
             [
              0.2222222222222222,
              "#7201a8"
             ],
             [
              0.3333333333333333,
              "#9c179e"
             ],
             [
              0.4444444444444444,
              "#bd3786"
             ],
             [
              0.5555555555555556,
              "#d8576b"
             ],
             [
              0.6666666666666666,
              "#ed7953"
             ],
             [
              0.7777777777777778,
              "#fb9f3a"
             ],
             [
              0.8888888888888888,
              "#fdca26"
             ],
             [
              1,
              "#f0f921"
             ]
            ],
            "type": "heatmapgl"
           }
          ],
          "histogram": [
           {
            "marker": {
             "pattern": {
              "fillmode": "overlay",
              "size": 10,
              "solidity": 0.2
             }
            },
            "type": "histogram"
           }
          ],
          "histogram2d": [
           {
            "colorbar": {
             "outlinewidth": 0,
             "ticks": ""
            },
            "colorscale": [
             [
              0,
              "#0d0887"
             ],
             [
              0.1111111111111111,
              "#46039f"
             ],
             [
              0.2222222222222222,
              "#7201a8"
             ],
             [
              0.3333333333333333,
              "#9c179e"
             ],
             [
              0.4444444444444444,
              "#bd3786"
             ],
             [
              0.5555555555555556,
              "#d8576b"
             ],
             [
              0.6666666666666666,
              "#ed7953"
             ],
             [
              0.7777777777777778,
              "#fb9f3a"
             ],
             [
              0.8888888888888888,
              "#fdca26"
             ],
             [
              1,
              "#f0f921"
             ]
            ],
            "type": "histogram2d"
           }
          ],
          "histogram2dcontour": [
           {
            "colorbar": {
             "outlinewidth": 0,
             "ticks": ""
            },
            "colorscale": [
             [
              0,
              "#0d0887"
             ],
             [
              0.1111111111111111,
              "#46039f"
             ],
             [
              0.2222222222222222,
              "#7201a8"
             ],
             [
              0.3333333333333333,
              "#9c179e"
             ],
             [
              0.4444444444444444,
              "#bd3786"
             ],
             [
              0.5555555555555556,
              "#d8576b"
             ],
             [
              0.6666666666666666,
              "#ed7953"
             ],
             [
              0.7777777777777778,
              "#fb9f3a"
             ],
             [
              0.8888888888888888,
              "#fdca26"
             ],
             [
              1,
              "#f0f921"
             ]
            ],
            "type": "histogram2dcontour"
           }
          ],
          "mesh3d": [
           {
            "colorbar": {
             "outlinewidth": 0,
             "ticks": ""
            },
            "type": "mesh3d"
           }
          ],
          "parcoords": [
           {
            "line": {
             "colorbar": {
              "outlinewidth": 0,
              "ticks": ""
             }
            },
            "type": "parcoords"
           }
          ],
          "pie": [
           {
            "automargin": true,
            "type": "pie"
           }
          ],
          "scatter": [
           {
            "fillpattern": {
             "fillmode": "overlay",
             "size": 10,
             "solidity": 0.2
            },
            "type": "scatter"
           }
          ],
          "scatter3d": [
           {
            "line": {
             "colorbar": {
              "outlinewidth": 0,
              "ticks": ""
             }
            },
            "marker": {
             "colorbar": {
              "outlinewidth": 0,
              "ticks": ""
             }
            },
            "type": "scatter3d"
           }
          ],
          "scattercarpet": [
           {
            "marker": {
             "colorbar": {
              "outlinewidth": 0,
              "ticks": ""
             }
            },
            "type": "scattercarpet"
           }
          ],
          "scattergeo": [
           {
            "marker": {
             "colorbar": {
              "outlinewidth": 0,
              "ticks": ""
             }
            },
            "type": "scattergeo"
           }
          ],
          "scattergl": [
           {
            "marker": {
             "colorbar": {
              "outlinewidth": 0,
              "ticks": ""
             }
            },
            "type": "scattergl"
           }
          ],
          "scattermapbox": [
           {
            "marker": {
             "colorbar": {
              "outlinewidth": 0,
              "ticks": ""
             }
            },
            "type": "scattermapbox"
           }
          ],
          "scatterpolar": [
           {
            "marker": {
             "colorbar": {
              "outlinewidth": 0,
              "ticks": ""
             }
            },
            "type": "scatterpolar"
           }
          ],
          "scatterpolargl": [
           {
            "marker": {
             "colorbar": {
              "outlinewidth": 0,
              "ticks": ""
             }
            },
            "type": "scatterpolargl"
           }
          ],
          "scatterternary": [
           {
            "marker": {
             "colorbar": {
              "outlinewidth": 0,
              "ticks": ""
             }
            },
            "type": "scatterternary"
           }
          ],
          "surface": [
           {
            "colorbar": {
             "outlinewidth": 0,
             "ticks": ""
            },
            "colorscale": [
             [
              0,
              "#0d0887"
             ],
             [
              0.1111111111111111,
              "#46039f"
             ],
             [
              0.2222222222222222,
              "#7201a8"
             ],
             [
              0.3333333333333333,
              "#9c179e"
             ],
             [
              0.4444444444444444,
              "#bd3786"
             ],
             [
              0.5555555555555556,
              "#d8576b"
             ],
             [
              0.6666666666666666,
              "#ed7953"
             ],
             [
              0.7777777777777778,
              "#fb9f3a"
             ],
             [
              0.8888888888888888,
              "#fdca26"
             ],
             [
              1,
              "#f0f921"
             ]
            ],
            "type": "surface"
           }
          ],
          "table": [
           {
            "cells": {
             "fill": {
              "color": "#EBF0F8"
             },
             "line": {
              "color": "white"
             }
            },
            "header": {
             "fill": {
              "color": "#C8D4E3"
             },
             "line": {
              "color": "white"
             }
            },
            "type": "table"
           }
          ]
         },
         "layout": {
          "annotationdefaults": {
           "arrowcolor": "#2a3f5f",
           "arrowhead": 0,
           "arrowwidth": 1
          },
          "autotypenumbers": "strict",
          "coloraxis": {
           "colorbar": {
            "outlinewidth": 0,
            "ticks": ""
           }
          },
          "colorscale": {
           "diverging": [
            [
             0,
             "#8e0152"
            ],
            [
             0.1,
             "#c51b7d"
            ],
            [
             0.2,
             "#de77ae"
            ],
            [
             0.3,
             "#f1b6da"
            ],
            [
             0.4,
             "#fde0ef"
            ],
            [
             0.5,
             "#f7f7f7"
            ],
            [
             0.6,
             "#e6f5d0"
            ],
            [
             0.7,
             "#b8e186"
            ],
            [
             0.8,
             "#7fbc41"
            ],
            [
             0.9,
             "#4d9221"
            ],
            [
             1,
             "#276419"
            ]
           ],
           "sequential": [
            [
             0,
             "#0d0887"
            ],
            [
             0.1111111111111111,
             "#46039f"
            ],
            [
             0.2222222222222222,
             "#7201a8"
            ],
            [
             0.3333333333333333,
             "#9c179e"
            ],
            [
             0.4444444444444444,
             "#bd3786"
            ],
            [
             0.5555555555555556,
             "#d8576b"
            ],
            [
             0.6666666666666666,
             "#ed7953"
            ],
            [
             0.7777777777777778,
             "#fb9f3a"
            ],
            [
             0.8888888888888888,
             "#fdca26"
            ],
            [
             1,
             "#f0f921"
            ]
           ],
           "sequentialminus": [
            [
             0,
             "#0d0887"
            ],
            [
             0.1111111111111111,
             "#46039f"
            ],
            [
             0.2222222222222222,
             "#7201a8"
            ],
            [
             0.3333333333333333,
             "#9c179e"
            ],
            [
             0.4444444444444444,
             "#bd3786"
            ],
            [
             0.5555555555555556,
             "#d8576b"
            ],
            [
             0.6666666666666666,
             "#ed7953"
            ],
            [
             0.7777777777777778,
             "#fb9f3a"
            ],
            [
             0.8888888888888888,
             "#fdca26"
            ],
            [
             1,
             "#f0f921"
            ]
           ]
          },
          "colorway": [
           "#636efa",
           "#EF553B",
           "#00cc96",
           "#ab63fa",
           "#FFA15A",
           "#19d3f3",
           "#FF6692",
           "#B6E880",
           "#FF97FF",
           "#FECB52"
          ],
          "font": {
           "color": "#2a3f5f"
          },
          "geo": {
           "bgcolor": "white",
           "lakecolor": "white",
           "landcolor": "#E5ECF6",
           "showlakes": true,
           "showland": true,
           "subunitcolor": "white"
          },
          "hoverlabel": {
           "align": "left"
          },
          "hovermode": "closest",
          "mapbox": {
           "style": "light"
          },
          "paper_bgcolor": "white",
          "plot_bgcolor": "#E5ECF6",
          "polar": {
           "angularaxis": {
            "gridcolor": "white",
            "linecolor": "white",
            "ticks": ""
           },
           "bgcolor": "#E5ECF6",
           "radialaxis": {
            "gridcolor": "white",
            "linecolor": "white",
            "ticks": ""
           }
          },
          "scene": {
           "xaxis": {
            "backgroundcolor": "#E5ECF6",
            "gridcolor": "white",
            "gridwidth": 2,
            "linecolor": "white",
            "showbackground": true,
            "ticks": "",
            "zerolinecolor": "white"
           },
           "yaxis": {
            "backgroundcolor": "#E5ECF6",
            "gridcolor": "white",
            "gridwidth": 2,
            "linecolor": "white",
            "showbackground": true,
            "ticks": "",
            "zerolinecolor": "white"
           },
           "zaxis": {
            "backgroundcolor": "#E5ECF6",
            "gridcolor": "white",
            "gridwidth": 2,
            "linecolor": "white",
            "showbackground": true,
            "ticks": "",
            "zerolinecolor": "white"
           }
          },
          "shapedefaults": {
           "line": {
            "color": "#2a3f5f"
           }
          },
          "ternary": {
           "aaxis": {
            "gridcolor": "white",
            "linecolor": "white",
            "ticks": ""
           },
           "baxis": {
            "gridcolor": "white",
            "linecolor": "white",
            "ticks": ""
           },
           "bgcolor": "#E5ECF6",
           "caxis": {
            "gridcolor": "white",
            "linecolor": "white",
            "ticks": ""
           }
          },
          "title": {
           "x": 0.05
          },
          "xaxis": {
           "automargin": true,
           "gridcolor": "white",
           "linecolor": "white",
           "ticks": "",
           "title": {
            "standoff": 15
           },
           "zerolinecolor": "white",
           "zerolinewidth": 2
          },
          "yaxis": {
           "automargin": true,
           "gridcolor": "white",
           "linecolor": "white",
           "ticks": "",
           "title": {
            "standoff": 15
           },
           "zerolinecolor": "white",
           "zerolinewidth": 2
          }
         }
        },
        "title": {
         "text": "Waterfall Chart Perubahan Jumlah Karyawan Tiap Tahun"
        },
        "waterfallgap": 0.3,
        "xaxis": {
         "title": {
          "text": "Tahun"
         }
        },
        "yaxis": {
         "title": {
          "text": "Perubahan Jumlah Karyawan"
         }
        }
       }
      }
     },
     "metadata": {},
     "output_type": "display_data"
    }
   ],
   "source": [
    "# Plot perubahan kenaikan dan penurunan jumlah karyawan setiap tahun\n",
    "fig = go.Figure(go.Waterfall(\n",
    "    name=\"Perubahan Karyawan\", orientation=\"v\",\n",
    "    measure=[\"relative\"] * len(merged_df),\n",
    "    x=merged_df['Tahun'],\n",
    "    y=merged_df['PerubahanKaryawan'],\n",
    "    text=merged_df['PerubahanKaryawan'],\n",
    "    connector={\"line\":{\"color\":\"rgb(63, 63, 63)\"}},\n",
    "))\n",
    "\n",
    "fig.update_layout(\n",
    "    title=\"Waterfall Chart Perubahan Jumlah Karyawan Tiap Tahun\",\n",
    "    waterfallgap=0.3,\n",
    "    xaxis_title=\"Tahun\",\n",
    "    yaxis_title=\"Perubahan Jumlah Karyawan\",\n",
    "    showlegend=True\n",
    ")\n",
    "\n",
    "fig.show()"
   ]
  },
  {
   "cell_type": "markdown",
   "metadata": {},
   "source": [
    "Berdasarkan visualisasi ini, dapat disimpulkan bahwa kondisi perusahaan mengalami beberapa fase, yaitu sebagai berikut.\n",
    "- Fase Kenaikan Tajam, pada tahun 2011-2012 terdapat kenaikan yang signifikan pada jumlah karyawan. Peningkatan ini mungkin disebabkan oleh ekspansi perusahaan atau kebutuhan operasional yang lebih tinggi, yang memerlukan banyak karyawan tambahan.\n",
    "\n",
    "- Fase Periode Stabil, pada tahun 2013-2015, jumlah karyawan masih mengalami kenaikan, namun kenaikannya lebih stabil. Ini menunjukkan stabilitas perusahaan, di mana pertumbuhan karyawan masih terjaga meskipun tidak sebesar tahun-tahun sebelumnya.\n",
    "\n",
    "- Fase Penurunan, pada tahun 2016-2020 terjadi penurunan jumlah karyawan yang cukup besar, terutama pada tahun 2017. Hal ini menunjukkan adanya permasalahan yang lebih serius, seperti penurunan produktivitas, kepuasan kerja, atau faktor eksternal yang memengaruhi. Walaupun pada tahun 2018-2020 penurunannya lebih kecil, tetapi tren ini tetap menunjukkan arah yang mengkhawatirkan."
   ]
  },
  {
   "cell_type": "markdown",
   "metadata": {},
   "source": [
    "Berdasarkan hasil visualisasi tersebut didapatkan insight-insight, yaitu sebagai berikut.\n",
    "- Penurunan jumlah karyawan yang konsisten selama beberapa tahun menunjukkan bahwa perusahaan mungkin sedang menghadapi tantangan internal atau eksternal. Ini bisa berupa masalah dalam manajemen sumber daya manusia, lingkungan kerja yang kurang mendukung, atau tekanan dari kompetitor di pasar.\n",
    "\n",
    "- Setelah melihat penurunan karyawan yang signifikan, terutama pada tahun 2017, perusahaan harus mengevaluasi ulang kebijakan retensi karyawan. Program peningkatan kepuasan kerja, penyesuaian remunerasi, atau peninjauan kembali budaya kerja mungkin perlu dipertimbangkan untuk mencegah kehilangan lebih banyak karyawan di masa mendatang.\n",
    "\n",
    "- Pertumbuhan besar yang terjadi di tahun 2011-2012 kemungkinan berkaitan dengan ekspansi atau proyek besar yang dijalankan perusahaan pada saat itu. Namun, perusahaan harus berhati-hati dalam menjaga keseimbangan antara ekspansi dan mempertahankan sumber daya manusia yang ada.\n",
    "\n",
    "- Dengan tren penurunan karyawan sejak tahun 2016, kondisi perusahaan dapat dikatakan mengkhawatirkan. Hal ini bisa mempengaruhi stabilitas operasional perusahaan dalam jangka panjang. Manajemen perlu fokus pada pemulihan jumlah karyawan serta memperbaiki kondisi internal perusahaan."
   ]
  },
  {
   "cell_type": "markdown",
   "metadata": {},
   "source": [
    "# 3. Resign Reason Analysis for Employee Attrition Management Strategy"
   ]
  },
  {
   "cell_type": "markdown",
   "metadata": {},
   "source": [
    "## 3.1 Create Seperate Data"
   ]
  },
  {
   "cell_type": "code",
   "execution_count": 196,
   "metadata": {},
   "outputs": [],
   "source": [
    "# Membuat dua dataframe terpisah untuk yang sudah resign dan yang belum\n",
    "df_resign = df_clean.loc[df['TanggalResign'] != '-'].copy()  # Sudah resign\n",
    "df_stay = df_clean.loc[df['TanggalResign'] == '-'].copy()     # Belum resign"
   ]
  },
  {
   "cell_type": "markdown",
   "metadata": {},
   "source": [
    "## 3.2 Aggregate Table"
   ]
  },
  {
   "cell_type": "code",
   "execution_count": 198,
   "metadata": {},
   "outputs": [],
   "source": [
    "# Mengagregasi jumlah employee berdasarkan pekerjaan yang sudah resign\n",
    "agg_resign = df_resign.groupby('Pekerjaan').size().reset_index(name='JumlahResign')"
   ]
  },
  {
   "cell_type": "code",
   "execution_count": 199,
   "metadata": {},
   "outputs": [],
   "source": [
    "# Mengagregasi jumlah employee berdasarkan pekerjaan yang masih bekerja\n",
    "agg_stay = df_stay.groupby('Pekerjaan').size().reset_index(name='JumlahStay')"
   ]
  },
  {
   "cell_type": "code",
   "execution_count": 200,
   "metadata": {},
   "outputs": [],
   "source": [
    "# Menggabungkan dua dataframe berdasarkan pekerjaan\n",
    "agg_combined = pd.merge(agg_resign, agg_stay, on='Pekerjaan', how='outer').fillna(0)"
   ]
  },
  {
   "cell_type": "markdown",
   "metadata": {},
   "source": [
    "## 3.3 Create New Column"
   ]
  },
  {
   "cell_type": "code",
   "execution_count": 201,
   "metadata": {},
   "outputs": [],
   "source": [
    "# Membuat kolom total employee\n",
    "agg_combined['JumlahEmployee'] = agg_combined['JumlahResign'] + agg_combined['JumlahStay']"
   ]
  },
  {
   "cell_type": "code",
   "execution_count": 202,
   "metadata": {},
   "outputs": [],
   "source": [
    "# Membuat kolom persentase employee yang masih bekerja\n",
    "agg_combined['PersentaseStay'] = (agg_combined['JumlahStay'] / agg_combined['JumlahEmployee']) * 100"
   ]
  },
  {
   "cell_type": "code",
   "execution_count": 203,
   "metadata": {},
   "outputs": [],
   "source": [
    "# Mengurutkan berdasarkan persentase yang masih bekerja\n",
    "agg_combined = agg_combined.sort_values(by='PersentaseStay', ascending=True)"
   ]
  },
  {
   "cell_type": "code",
   "execution_count": 204,
   "metadata": {},
   "outputs": [
    {
     "data": {
      "text/html": [
       "<div>\n",
       "<style scoped>\n",
       "    .dataframe tbody tr th:only-of-type {\n",
       "        vertical-align: middle;\n",
       "    }\n",
       "\n",
       "    .dataframe tbody tr th {\n",
       "        vertical-align: top;\n",
       "    }\n",
       "\n",
       "    .dataframe thead th {\n",
       "        text-align: right;\n",
       "    }\n",
       "</style>\n",
       "<table border=\"1\" class=\"dataframe\">\n",
       "  <thead>\n",
       "    <tr style=\"text-align: right;\">\n",
       "      <th></th>\n",
       "      <th>Pekerjaan</th>\n",
       "      <th>JumlahResign</th>\n",
       "      <th>JumlahStay</th>\n",
       "      <th>JumlahEmployee</th>\n",
       "      <th>PersentaseStay</th>\n",
       "    </tr>\n",
       "  </thead>\n",
       "  <tbody>\n",
       "    <tr>\n",
       "      <th>0</th>\n",
       "      <td>Data Analyst</td>\n",
       "      <td>8.0</td>\n",
       "      <td>8</td>\n",
       "      <td>16.0</td>\n",
       "      <td>50.000000</td>\n",
       "    </tr>\n",
       "    <tr>\n",
       "      <th>12</th>\n",
       "      <td>Software Engineer (Front End)</td>\n",
       "      <td>28.0</td>\n",
       "      <td>44</td>\n",
       "      <td>72.0</td>\n",
       "      <td>61.111111</td>\n",
       "    </tr>\n",
       "    <tr>\n",
       "      <th>5</th>\n",
       "      <td>Product Design (UI &amp; UX)</td>\n",
       "      <td>9.0</td>\n",
       "      <td>15</td>\n",
       "      <td>24.0</td>\n",
       "      <td>62.500000</td>\n",
       "    </tr>\n",
       "    <tr>\n",
       "      <th>7</th>\n",
       "      <td>Product Manager</td>\n",
       "      <td>6.0</td>\n",
       "      <td>11</td>\n",
       "      <td>17.0</td>\n",
       "      <td>64.705882</td>\n",
       "    </tr>\n",
       "    <tr>\n",
       "      <th>1</th>\n",
       "      <td>Data Engineer</td>\n",
       "      <td>3.0</td>\n",
       "      <td>7</td>\n",
       "      <td>10.0</td>\n",
       "      <td>70.000000</td>\n",
       "    </tr>\n",
       "    <tr>\n",
       "      <th>10</th>\n",
       "      <td>Software Engineer (Android)</td>\n",
       "      <td>7.0</td>\n",
       "      <td>17</td>\n",
       "      <td>24.0</td>\n",
       "      <td>70.833333</td>\n",
       "    </tr>\n",
       "    <tr>\n",
       "      <th>11</th>\n",
       "      <td>Software Engineer (Back End)</td>\n",
       "      <td>28.0</td>\n",
       "      <td>81</td>\n",
       "      <td>109.0</td>\n",
       "      <td>74.311927</td>\n",
       "    </tr>\n",
       "    <tr>\n",
       "      <th>3</th>\n",
       "      <td>Digital Product Manager</td>\n",
       "      <td>0.0</td>\n",
       "      <td>2</td>\n",
       "      <td>2.0</td>\n",
       "      <td>100.000000</td>\n",
       "    </tr>\n",
       "    <tr>\n",
       "      <th>6</th>\n",
       "      <td>Product Design (UX Researcher)</td>\n",
       "      <td>0.0</td>\n",
       "      <td>1</td>\n",
       "      <td>1.0</td>\n",
       "      <td>100.000000</td>\n",
       "    </tr>\n",
       "    <tr>\n",
       "      <th>4</th>\n",
       "      <td>Machine Learning Engineer</td>\n",
       "      <td>0.0</td>\n",
       "      <td>2</td>\n",
       "      <td>2.0</td>\n",
       "      <td>100.000000</td>\n",
       "    </tr>\n",
       "    <tr>\n",
       "      <th>2</th>\n",
       "      <td>DevOps Engineer</td>\n",
       "      <td>0.0</td>\n",
       "      <td>3</td>\n",
       "      <td>3.0</td>\n",
       "      <td>100.000000</td>\n",
       "    </tr>\n",
       "    <tr>\n",
       "      <th>9</th>\n",
       "      <td>Software Architect</td>\n",
       "      <td>0.0</td>\n",
       "      <td>1</td>\n",
       "      <td>1.0</td>\n",
       "      <td>100.000000</td>\n",
       "    </tr>\n",
       "    <tr>\n",
       "      <th>8</th>\n",
       "      <td>Scrum Master</td>\n",
       "      <td>0.0</td>\n",
       "      <td>3</td>\n",
       "      <td>3.0</td>\n",
       "      <td>100.000000</td>\n",
       "    </tr>\n",
       "    <tr>\n",
       "      <th>13</th>\n",
       "      <td>Software Engineer (iOS)</td>\n",
       "      <td>0.0</td>\n",
       "      <td>3</td>\n",
       "      <td>3.0</td>\n",
       "      <td>100.000000</td>\n",
       "    </tr>\n",
       "  </tbody>\n",
       "</table>\n",
       "</div>"
      ],
      "text/plain": [
       "                         Pekerjaan  JumlahResign  JumlahStay  JumlahEmployee  \\\n",
       "0                     Data Analyst           8.0           8            16.0   \n",
       "12   Software Engineer (Front End)          28.0          44            72.0   \n",
       "5         Product Design (UI & UX)           9.0          15            24.0   \n",
       "7                  Product Manager           6.0          11            17.0   \n",
       "1                    Data Engineer           3.0           7            10.0   \n",
       "10     Software Engineer (Android)           7.0          17            24.0   \n",
       "11    Software Engineer (Back End)          28.0          81           109.0   \n",
       "3          Digital Product Manager           0.0           2             2.0   \n",
       "6   Product Design (UX Researcher)           0.0           1             1.0   \n",
       "4        Machine Learning Engineer           0.0           2             2.0   \n",
       "2                  DevOps Engineer           0.0           3             3.0   \n",
       "9               Software Architect           0.0           1             1.0   \n",
       "8                     Scrum Master           0.0           3             3.0   \n",
       "13         Software Engineer (iOS)           0.0           3             3.0   \n",
       "\n",
       "    PersentaseStay  \n",
       "0        50.000000  \n",
       "12       61.111111  \n",
       "5        62.500000  \n",
       "7        64.705882  \n",
       "1        70.000000  \n",
       "10       70.833333  \n",
       "11       74.311927  \n",
       "3       100.000000  \n",
       "6       100.000000  \n",
       "4       100.000000  \n",
       "2       100.000000  \n",
       "9       100.000000  \n",
       "8       100.000000  \n",
       "13      100.000000  "
      ]
     },
     "execution_count": 204,
     "metadata": {},
     "output_type": "execute_result"
    }
   ],
   "source": [
    "agg_combined"
   ]
  },
  {
   "cell_type": "markdown",
   "metadata": {},
   "source": [
    "## 3.4 Visualization Percentage of Remaining Employees"
   ]
  },
  {
   "cell_type": "code",
   "execution_count": 205,
   "metadata": {},
   "outputs": [
    {
     "data": {
      "application/vnd.plotly.v1+json": {
       "config": {
        "plotlyServerURL": "https://plot.ly"
       },
       "data": [
        {
         "branchvalues": "total",
         "customdata": [
          [
           50
          ],
          [
           70
          ],
          [
           100
          ],
          [
           100
          ],
          [
           100
          ],
          [
           62.5
          ],
          [
           100
          ],
          [
           64.70588235294117
          ],
          [
           100
          ],
          [
           100
          ],
          [
           70.83333333333334
          ],
          [
           74.31192660550458
          ],
          [
           61.111111111111114
          ],
          [
           100
          ]
         ],
         "domain": {
          "x": [
           0,
           1
          ],
          "y": [
           0,
           1
          ]
         },
         "hovertemplate": "labels=%{label}<br>JumlahEmployee=%{value}<br>parent=%{parent}<br>id=%{id}<br>PersentaseStay=%{color}<extra></extra>",
         "ids": [
          "Data Analyst",
          "Data Engineer",
          "DevOps Engineer",
          "Digital Product Manager",
          "Machine Learning Engineer",
          "Product Design (UI & UX)",
          "Product Design (UX Researcher)",
          "Product Manager",
          "Scrum Master",
          "Software Architect",
          "Software Engineer (Android)",
          "Software Engineer (Back End)",
          "Software Engineer (Front End)",
          "Software Engineer (iOS)"
         ],
         "labels": [
          "Data Analyst",
          "Data Engineer",
          "DevOps Engineer",
          "Digital Product Manager",
          "Machine Learning Engineer",
          "Product Design (UI & UX)",
          "Product Design (UX Researcher)",
          "Product Manager",
          "Scrum Master",
          "Software Architect",
          "Software Engineer (Android)",
          "Software Engineer (Back End)",
          "Software Engineer (Front End)",
          "Software Engineer (iOS)"
         ],
         "marker": {
          "coloraxis": "coloraxis",
          "colors": [
           50,
           70,
           100,
           100,
           100,
           62.5,
           100,
           64.70588235294117,
           100,
           100,
           70.83333333333334,
           74.31192660550458,
           61.111111111111114,
           100
          ]
         },
         "name": "",
         "parents": [
          "",
          "",
          "",
          "",
          "",
          "",
          "",
          "",
          "",
          "",
          "",
          "",
          "",
          ""
         ],
         "type": "sunburst",
         "values": [
          16,
          10,
          3,
          2,
          2,
          24,
          1,
          17,
          3,
          1,
          24,
          109,
          72,
          3
         ]
        }
       ],
       "layout": {
        "coloraxis": {
         "colorbar": {
          "title": {
           "text": "PersentaseStay"
          }
         },
         "colorscale": [
          [
           0,
           "rgb(165,0,38)"
          ],
          [
           0.1,
           "rgb(215,48,39)"
          ],
          [
           0.2,
           "rgb(244,109,67)"
          ],
          [
           0.3,
           "rgb(253,174,97)"
          ],
          [
           0.4,
           "rgb(254,224,139)"
          ],
          [
           0.5,
           "rgb(255,255,191)"
          ],
          [
           0.6,
           "rgb(217,239,139)"
          ],
          [
           0.7,
           "rgb(166,217,106)"
          ],
          [
           0.8,
           "rgb(102,189,99)"
          ],
          [
           0.9,
           "rgb(26,152,80)"
          ],
          [
           1,
           "rgb(0,104,55)"
          ]
         ]
        },
        "legend": {
         "tracegroupgap": 0
        },
        "template": {
         "data": {
          "bar": [
           {
            "error_x": {
             "color": "#2a3f5f"
            },
            "error_y": {
             "color": "#2a3f5f"
            },
            "marker": {
             "line": {
              "color": "#E5ECF6",
              "width": 0.5
             },
             "pattern": {
              "fillmode": "overlay",
              "size": 10,
              "solidity": 0.2
             }
            },
            "type": "bar"
           }
          ],
          "barpolar": [
           {
            "marker": {
             "line": {
              "color": "#E5ECF6",
              "width": 0.5
             },
             "pattern": {
              "fillmode": "overlay",
              "size": 10,
              "solidity": 0.2
             }
            },
            "type": "barpolar"
           }
          ],
          "carpet": [
           {
            "aaxis": {
             "endlinecolor": "#2a3f5f",
             "gridcolor": "white",
             "linecolor": "white",
             "minorgridcolor": "white",
             "startlinecolor": "#2a3f5f"
            },
            "baxis": {
             "endlinecolor": "#2a3f5f",
             "gridcolor": "white",
             "linecolor": "white",
             "minorgridcolor": "white",
             "startlinecolor": "#2a3f5f"
            },
            "type": "carpet"
           }
          ],
          "choropleth": [
           {
            "colorbar": {
             "outlinewidth": 0,
             "ticks": ""
            },
            "type": "choropleth"
           }
          ],
          "contour": [
           {
            "colorbar": {
             "outlinewidth": 0,
             "ticks": ""
            },
            "colorscale": [
             [
              0,
              "#0d0887"
             ],
             [
              0.1111111111111111,
              "#46039f"
             ],
             [
              0.2222222222222222,
              "#7201a8"
             ],
             [
              0.3333333333333333,
              "#9c179e"
             ],
             [
              0.4444444444444444,
              "#bd3786"
             ],
             [
              0.5555555555555556,
              "#d8576b"
             ],
             [
              0.6666666666666666,
              "#ed7953"
             ],
             [
              0.7777777777777778,
              "#fb9f3a"
             ],
             [
              0.8888888888888888,
              "#fdca26"
             ],
             [
              1,
              "#f0f921"
             ]
            ],
            "type": "contour"
           }
          ],
          "contourcarpet": [
           {
            "colorbar": {
             "outlinewidth": 0,
             "ticks": ""
            },
            "type": "contourcarpet"
           }
          ],
          "heatmap": [
           {
            "colorbar": {
             "outlinewidth": 0,
             "ticks": ""
            },
            "colorscale": [
             [
              0,
              "#0d0887"
             ],
             [
              0.1111111111111111,
              "#46039f"
             ],
             [
              0.2222222222222222,
              "#7201a8"
             ],
             [
              0.3333333333333333,
              "#9c179e"
             ],
             [
              0.4444444444444444,
              "#bd3786"
             ],
             [
              0.5555555555555556,
              "#d8576b"
             ],
             [
              0.6666666666666666,
              "#ed7953"
             ],
             [
              0.7777777777777778,
              "#fb9f3a"
             ],
             [
              0.8888888888888888,
              "#fdca26"
             ],
             [
              1,
              "#f0f921"
             ]
            ],
            "type": "heatmap"
           }
          ],
          "heatmapgl": [
           {
            "colorbar": {
             "outlinewidth": 0,
             "ticks": ""
            },
            "colorscale": [
             [
              0,
              "#0d0887"
             ],
             [
              0.1111111111111111,
              "#46039f"
             ],
             [
              0.2222222222222222,
              "#7201a8"
             ],
             [
              0.3333333333333333,
              "#9c179e"
             ],
             [
              0.4444444444444444,
              "#bd3786"
             ],
             [
              0.5555555555555556,
              "#d8576b"
             ],
             [
              0.6666666666666666,
              "#ed7953"
             ],
             [
              0.7777777777777778,
              "#fb9f3a"
             ],
             [
              0.8888888888888888,
              "#fdca26"
             ],
             [
              1,
              "#f0f921"
             ]
            ],
            "type": "heatmapgl"
           }
          ],
          "histogram": [
           {
            "marker": {
             "pattern": {
              "fillmode": "overlay",
              "size": 10,
              "solidity": 0.2
             }
            },
            "type": "histogram"
           }
          ],
          "histogram2d": [
           {
            "colorbar": {
             "outlinewidth": 0,
             "ticks": ""
            },
            "colorscale": [
             [
              0,
              "#0d0887"
             ],
             [
              0.1111111111111111,
              "#46039f"
             ],
             [
              0.2222222222222222,
              "#7201a8"
             ],
             [
              0.3333333333333333,
              "#9c179e"
             ],
             [
              0.4444444444444444,
              "#bd3786"
             ],
             [
              0.5555555555555556,
              "#d8576b"
             ],
             [
              0.6666666666666666,
              "#ed7953"
             ],
             [
              0.7777777777777778,
              "#fb9f3a"
             ],
             [
              0.8888888888888888,
              "#fdca26"
             ],
             [
              1,
              "#f0f921"
             ]
            ],
            "type": "histogram2d"
           }
          ],
          "histogram2dcontour": [
           {
            "colorbar": {
             "outlinewidth": 0,
             "ticks": ""
            },
            "colorscale": [
             [
              0,
              "#0d0887"
             ],
             [
              0.1111111111111111,
              "#46039f"
             ],
             [
              0.2222222222222222,
              "#7201a8"
             ],
             [
              0.3333333333333333,
              "#9c179e"
             ],
             [
              0.4444444444444444,
              "#bd3786"
             ],
             [
              0.5555555555555556,
              "#d8576b"
             ],
             [
              0.6666666666666666,
              "#ed7953"
             ],
             [
              0.7777777777777778,
              "#fb9f3a"
             ],
             [
              0.8888888888888888,
              "#fdca26"
             ],
             [
              1,
              "#f0f921"
             ]
            ],
            "type": "histogram2dcontour"
           }
          ],
          "mesh3d": [
           {
            "colorbar": {
             "outlinewidth": 0,
             "ticks": ""
            },
            "type": "mesh3d"
           }
          ],
          "parcoords": [
           {
            "line": {
             "colorbar": {
              "outlinewidth": 0,
              "ticks": ""
             }
            },
            "type": "parcoords"
           }
          ],
          "pie": [
           {
            "automargin": true,
            "type": "pie"
           }
          ],
          "scatter": [
           {
            "fillpattern": {
             "fillmode": "overlay",
             "size": 10,
             "solidity": 0.2
            },
            "type": "scatter"
           }
          ],
          "scatter3d": [
           {
            "line": {
             "colorbar": {
              "outlinewidth": 0,
              "ticks": ""
             }
            },
            "marker": {
             "colorbar": {
              "outlinewidth": 0,
              "ticks": ""
             }
            },
            "type": "scatter3d"
           }
          ],
          "scattercarpet": [
           {
            "marker": {
             "colorbar": {
              "outlinewidth": 0,
              "ticks": ""
             }
            },
            "type": "scattercarpet"
           }
          ],
          "scattergeo": [
           {
            "marker": {
             "colorbar": {
              "outlinewidth": 0,
              "ticks": ""
             }
            },
            "type": "scattergeo"
           }
          ],
          "scattergl": [
           {
            "marker": {
             "colorbar": {
              "outlinewidth": 0,
              "ticks": ""
             }
            },
            "type": "scattergl"
           }
          ],
          "scattermapbox": [
           {
            "marker": {
             "colorbar": {
              "outlinewidth": 0,
              "ticks": ""
             }
            },
            "type": "scattermapbox"
           }
          ],
          "scatterpolar": [
           {
            "marker": {
             "colorbar": {
              "outlinewidth": 0,
              "ticks": ""
             }
            },
            "type": "scatterpolar"
           }
          ],
          "scatterpolargl": [
           {
            "marker": {
             "colorbar": {
              "outlinewidth": 0,
              "ticks": ""
             }
            },
            "type": "scatterpolargl"
           }
          ],
          "scatterternary": [
           {
            "marker": {
             "colorbar": {
              "outlinewidth": 0,
              "ticks": ""
             }
            },
            "type": "scatterternary"
           }
          ],
          "surface": [
           {
            "colorbar": {
             "outlinewidth": 0,
             "ticks": ""
            },
            "colorscale": [
             [
              0,
              "#0d0887"
             ],
             [
              0.1111111111111111,
              "#46039f"
             ],
             [
              0.2222222222222222,
              "#7201a8"
             ],
             [
              0.3333333333333333,
              "#9c179e"
             ],
             [
              0.4444444444444444,
              "#bd3786"
             ],
             [
              0.5555555555555556,
              "#d8576b"
             ],
             [
              0.6666666666666666,
              "#ed7953"
             ],
             [
              0.7777777777777778,
              "#fb9f3a"
             ],
             [
              0.8888888888888888,
              "#fdca26"
             ],
             [
              1,
              "#f0f921"
             ]
            ],
            "type": "surface"
           }
          ],
          "table": [
           {
            "cells": {
             "fill": {
              "color": "#EBF0F8"
             },
             "line": {
              "color": "white"
             }
            },
            "header": {
             "fill": {
              "color": "#C8D4E3"
             },
             "line": {
              "color": "white"
             }
            },
            "type": "table"
           }
          ]
         },
         "layout": {
          "annotationdefaults": {
           "arrowcolor": "#2a3f5f",
           "arrowhead": 0,
           "arrowwidth": 1
          },
          "autotypenumbers": "strict",
          "coloraxis": {
           "colorbar": {
            "outlinewidth": 0,
            "ticks": ""
           }
          },
          "colorscale": {
           "diverging": [
            [
             0,
             "#8e0152"
            ],
            [
             0.1,
             "#c51b7d"
            ],
            [
             0.2,
             "#de77ae"
            ],
            [
             0.3,
             "#f1b6da"
            ],
            [
             0.4,
             "#fde0ef"
            ],
            [
             0.5,
             "#f7f7f7"
            ],
            [
             0.6,
             "#e6f5d0"
            ],
            [
             0.7,
             "#b8e186"
            ],
            [
             0.8,
             "#7fbc41"
            ],
            [
             0.9,
             "#4d9221"
            ],
            [
             1,
             "#276419"
            ]
           ],
           "sequential": [
            [
             0,
             "#0d0887"
            ],
            [
             0.1111111111111111,
             "#46039f"
            ],
            [
             0.2222222222222222,
             "#7201a8"
            ],
            [
             0.3333333333333333,
             "#9c179e"
            ],
            [
             0.4444444444444444,
             "#bd3786"
            ],
            [
             0.5555555555555556,
             "#d8576b"
            ],
            [
             0.6666666666666666,
             "#ed7953"
            ],
            [
             0.7777777777777778,
             "#fb9f3a"
            ],
            [
             0.8888888888888888,
             "#fdca26"
            ],
            [
             1,
             "#f0f921"
            ]
           ],
           "sequentialminus": [
            [
             0,
             "#0d0887"
            ],
            [
             0.1111111111111111,
             "#46039f"
            ],
            [
             0.2222222222222222,
             "#7201a8"
            ],
            [
             0.3333333333333333,
             "#9c179e"
            ],
            [
             0.4444444444444444,
             "#bd3786"
            ],
            [
             0.5555555555555556,
             "#d8576b"
            ],
            [
             0.6666666666666666,
             "#ed7953"
            ],
            [
             0.7777777777777778,
             "#fb9f3a"
            ],
            [
             0.8888888888888888,
             "#fdca26"
            ],
            [
             1,
             "#f0f921"
            ]
           ]
          },
          "colorway": [
           "#636efa",
           "#EF553B",
           "#00cc96",
           "#ab63fa",
           "#FFA15A",
           "#19d3f3",
           "#FF6692",
           "#B6E880",
           "#FF97FF",
           "#FECB52"
          ],
          "font": {
           "color": "#2a3f5f"
          },
          "geo": {
           "bgcolor": "white",
           "lakecolor": "white",
           "landcolor": "#E5ECF6",
           "showlakes": true,
           "showland": true,
           "subunitcolor": "white"
          },
          "hoverlabel": {
           "align": "left"
          },
          "hovermode": "closest",
          "mapbox": {
           "style": "light"
          },
          "paper_bgcolor": "white",
          "plot_bgcolor": "#E5ECF6",
          "polar": {
           "angularaxis": {
            "gridcolor": "white",
            "linecolor": "white",
            "ticks": ""
           },
           "bgcolor": "#E5ECF6",
           "radialaxis": {
            "gridcolor": "white",
            "linecolor": "white",
            "ticks": ""
           }
          },
          "scene": {
           "xaxis": {
            "backgroundcolor": "#E5ECF6",
            "gridcolor": "white",
            "gridwidth": 2,
            "linecolor": "white",
            "showbackground": true,
            "ticks": "",
            "zerolinecolor": "white"
           },
           "yaxis": {
            "backgroundcolor": "#E5ECF6",
            "gridcolor": "white",
            "gridwidth": 2,
            "linecolor": "white",
            "showbackground": true,
            "ticks": "",
            "zerolinecolor": "white"
           },
           "zaxis": {
            "backgroundcolor": "#E5ECF6",
            "gridcolor": "white",
            "gridwidth": 2,
            "linecolor": "white",
            "showbackground": true,
            "ticks": "",
            "zerolinecolor": "white"
           }
          },
          "shapedefaults": {
           "line": {
            "color": "#2a3f5f"
           }
          },
          "ternary": {
           "aaxis": {
            "gridcolor": "white",
            "linecolor": "white",
            "ticks": ""
           },
           "baxis": {
            "gridcolor": "white",
            "linecolor": "white",
            "ticks": ""
           },
           "bgcolor": "#E5ECF6",
           "caxis": {
            "gridcolor": "white",
            "linecolor": "white",
            "ticks": ""
           }
          },
          "title": {
           "x": 0.05
          },
          "xaxis": {
           "automargin": true,
           "gridcolor": "white",
           "linecolor": "white",
           "ticks": "",
           "title": {
            "standoff": 15
           },
           "zerolinecolor": "white",
           "zerolinewidth": 2
          },
          "yaxis": {
           "automargin": true,
           "gridcolor": "white",
           "linecolor": "white",
           "ticks": "",
           "title": {
            "standoff": 15
           },
           "zerolinecolor": "white",
           "zerolinewidth": 2
          }
         }
        },
        "title": {
         "text": "Sunburst Chart: Persentase Employee yang Masih Ada Berdasarkan Divisi Pekerjaan"
        }
       }
      }
     },
     "metadata": {},
     "output_type": "display_data"
    }
   ],
   "source": [
    "# Membuat Sunburst Chart untuk visualisasi persentase employee yang masih ada berdasarkan divisi pekerjaan\n",
    "fig = px.sunburst(\n",
    "    agg_combined,\n",
    "    path=['Pekerjaan'],  # Sunburst di level pekerjaan\n",
    "    values='JumlahEmployee',\n",
    "    color='PersentaseStay',\n",
    "    color_continuous_scale='RdYlGn',\n",
    "    title='Sunburst Chart: Persentase Employee yang Masih Ada Berdasarkan Divisi Pekerjaan'\n",
    ")\n",
    "\n",
    "# Menampilkan plot\n",
    "fig.show()"
   ]
  },
  {
   "cell_type": "code",
   "execution_count": 206,
   "metadata": {},
   "outputs": [
    {
     "name": "stderr",
     "output_type": "stream",
     "text": [
      "C:\\Users\\WINDOWS\\AppData\\Local\\Temp\\ipykernel_33768\\2439376897.py:2: FutureWarning:\n",
      "\n",
      "\n",
      "\n",
      "Passing `palette` without assigning `hue` is deprecated and will be removed in v0.14.0. Assign the `y` variable to `hue` and set `legend=False` for the same effect.\n",
      "\n",
      "\n"
     ]
    },
    {
     "data": {
      "image/png": "[encoded data removed]",
      "text/plain": [
       "<Figure size 1000x600 with 1 Axes>"
      ]
     },
     "metadata": {},
     "output_type": "display_data"
    }
   ],
   "source": [
    "plt.figure(figsize=(10, 6))\n",
    "sns.barplot(data=agg_combined, x='PersentaseStay', y='Pekerjaan', palette='coolwarm')\n",
    "plt.title('Persentase Employee yang Masih Ada Berdasarkan Divisi Pekerjaan')\n",
    "plt.xlabel('Persentase Employee yang Masih Bekerja')\n",
    "plt.ylabel('Pekerjaan')\n",
    "plt.show()"
   ]
  },
  {
   "cell_type": "markdown",
   "metadata": {},
   "source": [
    "## 3.5 Identify the Division with The Highest Resignation Rate"
   ]
  },
  {
   "cell_type": "code",
   "execution_count": 207,
   "metadata": {},
   "outputs": [],
   "source": [
    "# Menemukan divisi dengan tingkat resign tertinggi\n",
    "divisi_resign_tertinggi = agg_combined.loc[agg_combined['PersentaseStay'].idxmin(), 'Pekerjaan']"
   ]
  },
  {
   "cell_type": "code",
   "execution_count": 208,
   "metadata": {},
   "outputs": [],
   "source": [
    "# Filter data employee yang resign di divisi tersebut\n",
    "df_resign_divisi_tertinggi = df_resign[df_resign['Pekerjaan'] == divisi_resign_tertinggi]"
   ]
  },
  {
   "cell_type": "code",
   "execution_count": 209,
   "metadata": {},
   "outputs": [],
   "source": [
    "# Mengagregasi data berdasarkan Jenjang Karir, Performa Karyawan, dan Alasan Resign\n",
    "agg_divisi_resign = df_resign_divisi_tertinggi.groupby(['JenjangKarir', 'PerformancePegawai', 'AlasanResign']).size().reset_index(name='JumlahResign')"
   ]
  },
  {
   "cell_type": "markdown",
   "metadata": {},
   "source": [
    "## 3.6 Visualization The Aggregation Results"
   ]
  },
  {
   "cell_type": "code",
   "execution_count": 210,
   "metadata": {},
   "outputs": [
    {
     "data": {
      "text/html": [
       "<div>\n",
       "<style scoped>\n",
       "    .dataframe tbody tr th:only-of-type {\n",
       "        vertical-align: middle;\n",
       "    }\n",
       "\n",
       "    .dataframe tbody tr th {\n",
       "        vertical-align: top;\n",
       "    }\n",
       "\n",
       "    .dataframe thead th {\n",
       "        text-align: right;\n",
       "    }\n",
       "</style>\n",
       "<table border=\"1\" class=\"dataframe\">\n",
       "  <thead>\n",
       "    <tr style=\"text-align: right;\">\n",
       "      <th></th>\n",
       "      <th>JenjangKarir</th>\n",
       "      <th>PerformancePegawai</th>\n",
       "      <th>AlasanResign</th>\n",
       "      <th>JumlahResign</th>\n",
       "    </tr>\n",
       "  </thead>\n",
       "  <tbody>\n",
       "    <tr>\n",
       "      <th>0</th>\n",
       "      <td>Freshgraduate_program</td>\n",
       "      <td>Bagus</td>\n",
       "      <td>toxic_culture</td>\n",
       "      <td>1</td>\n",
       "    </tr>\n",
       "    <tr>\n",
       "      <th>1</th>\n",
       "      <td>Freshgraduate_program</td>\n",
       "      <td>Biasa</td>\n",
       "      <td>internal_conflict</td>\n",
       "      <td>1</td>\n",
       "    </tr>\n",
       "    <tr>\n",
       "      <th>2</th>\n",
       "      <td>Freshgraduate_program</td>\n",
       "      <td>Biasa</td>\n",
       "      <td>toxic_culture</td>\n",
       "      <td>1</td>\n",
       "    </tr>\n",
       "    <tr>\n",
       "      <th>3</th>\n",
       "      <td>Freshgraduate_program</td>\n",
       "      <td>Sangat_bagus</td>\n",
       "      <td>internal_conflict</td>\n",
       "      <td>1</td>\n",
       "    </tr>\n",
       "    <tr>\n",
       "      <th>4</th>\n",
       "      <td>Freshgraduate_program</td>\n",
       "      <td>Sangat_bagus</td>\n",
       "      <td>toxic_culture</td>\n",
       "      <td>3</td>\n",
       "    </tr>\n",
       "    <tr>\n",
       "      <th>5</th>\n",
       "      <td>Freshgraduate_program</td>\n",
       "      <td>Sangat_kurang</td>\n",
       "      <td>toxic_culture</td>\n",
       "      <td>1</td>\n",
       "    </tr>\n",
       "  </tbody>\n",
       "</table>\n",
       "</div>"
      ],
      "text/plain": [
       "            JenjangKarir PerformancePegawai       AlasanResign  JumlahResign\n",
       "0  Freshgraduate_program              Bagus      toxic_culture             1\n",
       "1  Freshgraduate_program              Biasa  internal_conflict             1\n",
       "2  Freshgraduate_program              Biasa      toxic_culture             1\n",
       "3  Freshgraduate_program       Sangat_bagus  internal_conflict             1\n",
       "4  Freshgraduate_program       Sangat_bagus      toxic_culture             3\n",
       "5  Freshgraduate_program      Sangat_kurang      toxic_culture             1"
      ]
     },
     "execution_count": 210,
     "metadata": {},
     "output_type": "execute_result"
    }
   ],
   "source": [
    "agg_divisi_resign"
   ]
  },
  {
   "cell_type": "code",
   "execution_count": 213,
   "metadata": {},
   "outputs": [
    {
     "name": "stderr",
     "output_type": "stream",
     "text": [
      "C:\\Users\\WINDOWS\\AppData\\Local\\Temp\\ipykernel_33768\\3771619048.py:3: FutureWarning:\n",
      "\n",
      "\n",
      "\n",
      "Passing `palette` without assigning `hue` is deprecated and will be removed in v0.14.0. Assign the `y` variable to `hue` and set `legend=False` for the same effect.\n",
      "\n",
      "\n"
     ]
    },
    {
     "data": {
      "image/png": "[encoded data removed]",
      "text/plain": [
       "<Figure size 1000x600 with 1 Axes>"
      ]
     },
     "metadata": {},
     "output_type": "display_data"
    }
   ],
   "source": [
    "# Membuat plot alasan resign\n",
    "plt.figure(figsize=(10, 6))\n",
    "sns.countplot(data=df_resign_divisi_tertinggi, y='AlasanResign', palette='Set2')\n",
    "plt.title(f'Alasan Resign Karyawan di Divisi {divisi_resign_tertinggi}')\n",
    "plt.xlabel('Jumlah Resign')\n",
    "plt.ylabel('Alasan Resign')\n",
    "plt.show()"
   ]
  },
  {
   "cell_type": "code",
   "execution_count": 212,
   "metadata": {},
   "outputs": [],
   "source": [
    "# # Membuat plot jumlah karyawan yg resign berdasarkan divisi\n",
    "# plt.figure(figsize=(12, 8))\n",
    "# sns.barplot(data=agg_divisi_resign, x='JumlahResign', y='JenjangKarir', hue='PerformancePegawai', palette='muted')\n",
    "# plt.title(f'Jumlah Employee yang Resign Berdasarkan Jenjang Karir dan Performa Karyawan di Divisi {divisi_resign_tertinggi}')\n",
    "# plt.xlabel('Jumlah Resign')\n",
    "# plt.ylabel('Jenjang Karir')\n",
    "# plt.legend(title='Performance Pegawai')\n",
    "# plt.show()"
   ]
  },
  {
   "cell_type": "code",
   "execution_count": 211,
   "metadata": {},
   "outputs": [
    {
     "data": {
      "application/vnd.plotly.v1+json": {
       "config": {
        "plotlyServerURL": "https://plot.ly"
       },
       "data": [
        {
         "branchvalues": "total",
         "customdata": [
          [
           1
          ],
          [
           1
          ],
          [
           1
          ],
          [
           1
          ],
          [
           3
          ],
          [
           1
          ],
          [
           1
          ],
          [
           1
          ],
          [
           2.5
          ],
          [
           1
          ],
          [
           1.75
          ]
         ],
         "domain": {
          "x": [
           0,
           1
          ],
          "y": [
           0,
           1
          ]
         },
         "hovertemplate": "labels=%{label}<br>JumlahResign_sum=%{value}<br>parent=%{parent}<br>id=%{id}<br>JumlahResign=%{color}<extra></extra>",
         "ids": [
          "Freshgraduate_program/Biasa/internal_conflict",
          "Freshgraduate_program/Sangat_bagus/internal_conflict",
          "Freshgraduate_program/Bagus/toxic_culture",
          "Freshgraduate_program/Biasa/toxic_culture",
          "Freshgraduate_program/Sangat_bagus/toxic_culture",
          "Freshgraduate_program/Sangat_kurang/toxic_culture",
          "Freshgraduate_program/Bagus",
          "Freshgraduate_program/Biasa",
          "Freshgraduate_program/Sangat_bagus",
          "Freshgraduate_program/Sangat_kurang",
          "Freshgraduate_program"
         ],
         "labels": [
          "internal_conflict",
          "internal_conflict",
          "toxic_culture",
          "toxic_culture",
          "toxic_culture",
          "toxic_culture",
          "Bagus",
          "Biasa",
          "Sangat_bagus",
          "Sangat_kurang",
          "Freshgraduate_program"
         ],
         "marker": {
          "coloraxis": "coloraxis",
          "colors": [
           1,
           1,
           1,
           1,
           3,
           1,
           1,
           1,
           2.5,
           1,
           1.75
          ]
         },
         "name": "",
         "parents": [
          "Freshgraduate_program/Biasa",
          "Freshgraduate_program/Sangat_bagus",
          "Freshgraduate_program/Bagus",
          "Freshgraduate_program/Biasa",
          "Freshgraduate_program/Sangat_bagus",
          "Freshgraduate_program/Sangat_kurang",
          "Freshgraduate_program",
          "Freshgraduate_program",
          "Freshgraduate_program",
          "Freshgraduate_program",
          ""
         ],
         "type": "sunburst",
         "values": [
          1,
          1,
          1,
          1,
          3,
          1,
          1,
          2,
          4,
          1,
          8
         ]
        }
       ],
       "layout": {
        "coloraxis": {
         "colorbar": {
          "title": {
           "text": "JumlahResign"
          }
         },
         "colorscale": [
          [
           0,
           "rgb(165,0,38)"
          ],
          [
           0.1,
           "rgb(215,48,39)"
          ],
          [
           0.2,
           "rgb(244,109,67)"
          ],
          [
           0.3,
           "rgb(253,174,97)"
          ],
          [
           0.4,
           "rgb(254,224,139)"
          ],
          [
           0.5,
           "rgb(255,255,191)"
          ],
          [
           0.6,
           "rgb(217,239,139)"
          ],
          [
           0.7,
           "rgb(166,217,106)"
          ],
          [
           0.8,
           "rgb(102,189,99)"
          ],
          [
           0.9,
           "rgb(26,152,80)"
          ],
          [
           1,
           "rgb(0,104,55)"
          ]
         ]
        },
        "legend": {
         "tracegroupgap": 0
        },
        "template": {
         "data": {
          "bar": [
           {
            "error_x": {
             "color": "#2a3f5f"
            },
            "error_y": {
             "color": "#2a3f5f"
            },
            "marker": {
             "line": {
              "color": "#E5ECF6",
              "width": 0.5
             },
             "pattern": {
              "fillmode": "overlay",
              "size": 10,
              "solidity": 0.2
             }
            },
            "type": "bar"
           }
          ],
          "barpolar": [
           {
            "marker": {
             "line": {
              "color": "#E5ECF6",
              "width": 0.5
             },
             "pattern": {
              "fillmode": "overlay",
              "size": 10,
              "solidity": 0.2
             }
            },
            "type": "barpolar"
           }
          ],
          "carpet": [
           {
            "aaxis": {
             "endlinecolor": "#2a3f5f",
             "gridcolor": "white",
             "linecolor": "white",
             "minorgridcolor": "white",
             "startlinecolor": "#2a3f5f"
            },
            "baxis": {
             "endlinecolor": "#2a3f5f",
             "gridcolor": "white",
             "linecolor": "white",
             "minorgridcolor": "white",
             "startlinecolor": "#2a3f5f"
            },
            "type": "carpet"
           }
          ],
          "choropleth": [
           {
            "colorbar": {
             "outlinewidth": 0,
             "ticks": ""
            },
            "type": "choropleth"
           }
          ],
          "contour": [
           {
            "colorbar": {
             "outlinewidth": 0,
             "ticks": ""
            },
            "colorscale": [
             [
              0,
              "#0d0887"
             ],
             [
              0.1111111111111111,
              "#46039f"
             ],
             [
              0.2222222222222222,
              "#7201a8"
             ],
             [
              0.3333333333333333,
              "#9c179e"
             ],
             [
              0.4444444444444444,
              "#bd3786"
             ],
             [
              0.5555555555555556,
              "#d8576b"
             ],
             [
              0.6666666666666666,
              "#ed7953"
             ],
             [
              0.7777777777777778,
              "#fb9f3a"
             ],
             [
              0.8888888888888888,
              "#fdca26"
             ],
             [
              1,
              "#f0f921"
             ]
            ],
            "type": "contour"
           }
          ],
          "contourcarpet": [
           {
            "colorbar": {
             "outlinewidth": 0,
             "ticks": ""
            },
            "type": "contourcarpet"
           }
          ],
          "heatmap": [
           {
            "colorbar": {
             "outlinewidth": 0,
             "ticks": ""
            },
            "colorscale": [
             [
              0,
              "#0d0887"
             ],
             [
              0.1111111111111111,
              "#46039f"
             ],
             [
              0.2222222222222222,
              "#7201a8"
             ],
             [
              0.3333333333333333,
              "#9c179e"
             ],
             [
              0.4444444444444444,
              "#bd3786"
             ],
             [
              0.5555555555555556,
              "#d8576b"
             ],
             [
              0.6666666666666666,
              "#ed7953"
             ],
             [
              0.7777777777777778,
              "#fb9f3a"
             ],
             [
              0.8888888888888888,
              "#fdca26"
             ],
             [
              1,
              "#f0f921"
             ]
            ],
            "type": "heatmap"
           }
          ],
          "heatmapgl": [
           {
            "colorbar": {
             "outlinewidth": 0,
             "ticks": ""
            },
            "colorscale": [
             [
              0,
              "#0d0887"
             ],
             [
              0.1111111111111111,
              "#46039f"
             ],
             [
              0.2222222222222222,
              "#7201a8"
             ],
             [
              0.3333333333333333,
              "#9c179e"
             ],
             [
              0.4444444444444444,
              "#bd3786"
             ],
             [
              0.5555555555555556,
              "#d8576b"
             ],
             [
              0.6666666666666666,
              "#ed7953"
             ],
             [
              0.7777777777777778,
              "#fb9f3a"
             ],
             [
              0.8888888888888888,
              "#fdca26"
             ],
             [
              1,
              "#f0f921"
             ]
            ],
            "type": "heatmapgl"
           }
          ],
          "histogram": [
           {
            "marker": {
             "pattern": {
              "fillmode": "overlay",
              "size": 10,
              "solidity": 0.2
             }
            },
            "type": "histogram"
           }
          ],
          "histogram2d": [
           {
            "colorbar": {
             "outlinewidth": 0,
             "ticks": ""
            },
            "colorscale": [
             [
              0,
              "#0d0887"
             ],
             [
              0.1111111111111111,
              "#46039f"
             ],
             [
              0.2222222222222222,
              "#7201a8"
             ],
             [
              0.3333333333333333,
              "#9c179e"
             ],
             [
              0.4444444444444444,
              "#bd3786"
             ],
             [
              0.5555555555555556,
              "#d8576b"
             ],
             [
              0.6666666666666666,
              "#ed7953"
             ],
             [
              0.7777777777777778,
              "#fb9f3a"
             ],
             [
              0.8888888888888888,
              "#fdca26"
             ],
             [
              1,
              "#f0f921"
             ]
            ],
            "type": "histogram2d"
           }
          ],
          "histogram2dcontour": [
           {
            "colorbar": {
             "outlinewidth": 0,
             "ticks": ""
            },
            "colorscale": [
             [
              0,
              "#0d0887"
             ],
             [
              0.1111111111111111,
              "#46039f"
             ],
             [
              0.2222222222222222,
              "#7201a8"
             ],
             [
              0.3333333333333333,
              "#9c179e"
             ],
             [
              0.4444444444444444,
              "#bd3786"
             ],
             [
              0.5555555555555556,
              "#d8576b"
             ],
             [
              0.6666666666666666,
              "#ed7953"
             ],
             [
              0.7777777777777778,
              "#fb9f3a"
             ],
             [
              0.8888888888888888,
              "#fdca26"
             ],
             [
              1,
              "#f0f921"
             ]
            ],
            "type": "histogram2dcontour"
           }
          ],
          "mesh3d": [
           {
            "colorbar": {
             "outlinewidth": 0,
             "ticks": ""
            },
            "type": "mesh3d"
           }
          ],
          "parcoords": [
           {
            "line": {
             "colorbar": {
              "outlinewidth": 0,
              "ticks": ""
             }
            },
            "type": "parcoords"
           }
          ],
          "pie": [
           {
            "automargin": true,
            "type": "pie"
           }
          ],
          "scatter": [
           {
            "fillpattern": {
             "fillmode": "overlay",
             "size": 10,
             "solidity": 0.2
            },
            "type": "scatter"
           }
          ],
          "scatter3d": [
           {
            "line": {
             "colorbar": {
              "outlinewidth": 0,
              "ticks": ""
             }
            },
            "marker": {
             "colorbar": {
              "outlinewidth": 0,
              "ticks": ""
             }
            },
            "type": "scatter3d"
           }
          ],
          "scattercarpet": [
           {
            "marker": {
             "colorbar": {
              "outlinewidth": 0,
              "ticks": ""
             }
            },
            "type": "scattercarpet"
           }
          ],
          "scattergeo": [
           {
            "marker": {
             "colorbar": {
              "outlinewidth": 0,
              "ticks": ""
             }
            },
            "type": "scattergeo"
           }
          ],
          "scattergl": [
           {
            "marker": {
             "colorbar": {
              "outlinewidth": 0,
              "ticks": ""
             }
            },
            "type": "scattergl"
           }
          ],
          "scattermapbox": [
           {
            "marker": {
             "colorbar": {
              "outlinewidth": 0,
              "ticks": ""
             }
            },
            "type": "scattermapbox"
           }
          ],
          "scatterpolar": [
           {
            "marker": {
             "colorbar": {
              "outlinewidth": 0,
              "ticks": ""
             }
            },
            "type": "scatterpolar"
           }
          ],
          "scatterpolargl": [
           {
            "marker": {
             "colorbar": {
              "outlinewidth": 0,
              "ticks": ""
             }
            },
            "type": "scatterpolargl"
           }
          ],
          "scatterternary": [
           {
            "marker": {
             "colorbar": {
              "outlinewidth": 0,
              "ticks": ""
             }
            },
            "type": "scatterternary"
           }
          ],
          "surface": [
           {
            "colorbar": {
             "outlinewidth": 0,
             "ticks": ""
            },
            "colorscale": [
             [
              0,
              "#0d0887"
             ],
             [
              0.1111111111111111,
              "#46039f"
             ],
             [
              0.2222222222222222,
              "#7201a8"
             ],
             [
              0.3333333333333333,
              "#9c179e"
             ],
             [
              0.4444444444444444,
              "#bd3786"
             ],
             [
              0.5555555555555556,
              "#d8576b"
             ],
             [
              0.6666666666666666,
              "#ed7953"
             ],
             [
              0.7777777777777778,
              "#fb9f3a"
             ],
             [
              0.8888888888888888,
              "#fdca26"
             ],
             [
              1,
              "#f0f921"
             ]
            ],
            "type": "surface"
           }
          ],
          "table": [
           {
            "cells": {
             "fill": {
              "color": "#EBF0F8"
             },
             "line": {
              "color": "white"
             }
            },
            "header": {
             "fill": {
              "color": "#C8D4E3"
             },
             "line": {
              "color": "white"
             }
            },
            "type": "table"
           }
          ]
         },
         "layout": {
          "annotationdefaults": {
           "arrowcolor": "#2a3f5f",
           "arrowhead": 0,
           "arrowwidth": 1
          },
          "autotypenumbers": "strict",
          "coloraxis": {
           "colorbar": {
            "outlinewidth": 0,
            "ticks": ""
           }
          },
          "colorscale": {
           "diverging": [
            [
             0,
             "#8e0152"
            ],
            [
             0.1,
             "#c51b7d"
            ],
            [
             0.2,
             "#de77ae"
            ],
            [
             0.3,
             "#f1b6da"
            ],
            [
             0.4,
             "#fde0ef"
            ],
            [
             0.5,
             "#f7f7f7"
            ],
            [
             0.6,
             "#e6f5d0"
            ],
            [
             0.7,
             "#b8e186"
            ],
            [
             0.8,
             "#7fbc41"
            ],
            [
             0.9,
             "#4d9221"
            ],
            [
             1,
             "#276419"
            ]
           ],
           "sequential": [
            [
             0,
             "#0d0887"
            ],
            [
             0.1111111111111111,
             "#46039f"
            ],
            [
             0.2222222222222222,
             "#7201a8"
            ],
            [
             0.3333333333333333,
             "#9c179e"
            ],
            [
             0.4444444444444444,
             "#bd3786"
            ],
            [
             0.5555555555555556,
             "#d8576b"
            ],
            [
             0.6666666666666666,
             "#ed7953"
            ],
            [
             0.7777777777777778,
             "#fb9f3a"
            ],
            [
             0.8888888888888888,
             "#fdca26"
            ],
            [
             1,
             "#f0f921"
            ]
           ],
           "sequentialminus": [
            [
             0,
             "#0d0887"
            ],
            [
             0.1111111111111111,
             "#46039f"
            ],
            [
             0.2222222222222222,
             "#7201a8"
            ],
            [
             0.3333333333333333,
             "#9c179e"
            ],
            [
             0.4444444444444444,
             "#bd3786"
            ],
            [
             0.5555555555555556,
             "#d8576b"
            ],
            [
             0.6666666666666666,
             "#ed7953"
            ],
            [
             0.7777777777777778,
             "#fb9f3a"
            ],
            [
             0.8888888888888888,
             "#fdca26"
            ],
            [
             1,
             "#f0f921"
            ]
           ]
          },
          "colorway": [
           "#636efa",
           "#EF553B",
           "#00cc96",
           "#ab63fa",
           "#FFA15A",
           "#19d3f3",
           "#FF6692",
           "#B6E880",
           "#FF97FF",
           "#FECB52"
          ],
          "font": {
           "color": "#2a3f5f"
          },
          "geo": {
           "bgcolor": "white",
           "lakecolor": "white",
           "landcolor": "#E5ECF6",
           "showlakes": true,
           "showland": true,
           "subunitcolor": "white"
          },
          "hoverlabel": {
           "align": "left"
          },
          "hovermode": "closest",
          "mapbox": {
           "style": "light"
          },
          "paper_bgcolor": "white",
          "plot_bgcolor": "#E5ECF6",
          "polar": {
           "angularaxis": {
            "gridcolor": "white",
            "linecolor": "white",
            "ticks": ""
           },
           "bgcolor": "#E5ECF6",
           "radialaxis": {
            "gridcolor": "white",
            "linecolor": "white",
            "ticks": ""
           }
          },
          "scene": {
           "xaxis": {
            "backgroundcolor": "#E5ECF6",
            "gridcolor": "white",
            "gridwidth": 2,
            "linecolor": "white",
            "showbackground": true,
            "ticks": "",
            "zerolinecolor": "white"
           },
           "yaxis": {
            "backgroundcolor": "#E5ECF6",
            "gridcolor": "white",
            "gridwidth": 2,
            "linecolor": "white",
            "showbackground": true,
            "ticks": "",
            "zerolinecolor": "white"
           },
           "zaxis": {
            "backgroundcolor": "#E5ECF6",
            "gridcolor": "white",
            "gridwidth": 2,
            "linecolor": "white",
            "showbackground": true,
            "ticks": "",
            "zerolinecolor": "white"
           }
          },
          "shapedefaults": {
           "line": {
            "color": "#2a3f5f"
           }
          },
          "ternary": {
           "aaxis": {
            "gridcolor": "white",
            "linecolor": "white",
            "ticks": ""
           },
           "baxis": {
            "gridcolor": "white",
            "linecolor": "white",
            "ticks": ""
           },
           "bgcolor": "#E5ECF6",
           "caxis": {
            "gridcolor": "white",
            "linecolor": "white",
            "ticks": ""
           }
          },
          "title": {
           "x": 0.05
          },
          "xaxis": {
           "automargin": true,
           "gridcolor": "white",
           "linecolor": "white",
           "ticks": "",
           "title": {
            "standoff": 15
           },
           "zerolinecolor": "white",
           "zerolinewidth": 2
          },
          "yaxis": {
           "automargin": true,
           "gridcolor": "white",
           "linecolor": "white",
           "ticks": "",
           "title": {
            "standoff": 15
           },
           "zerolinecolor": "white",
           "zerolinewidth": 2
          }
         }
        },
        "title": {
         "text": "Sunburst Chart: Resign Berdasarkan Jenjang Karir, Performa Karyawan, dan Alasan Resign di Divisi Data Analyst"
        }
       }
      }
     },
     "metadata": {},
     "output_type": "display_data"
    }
   ],
   "source": [
    "# Membuat Sunburst Chart untuk visualisasi Jenjang Karir, Performance Pegawai, dan Alasan Resign\n",
    "fig = px.sunburst(\n",
    "    agg_divisi_resign,\n",
    "    path=['JenjangKarir', 'PerformancePegawai', 'AlasanResign'],\n",
    "    values='JumlahResign',\n",
    "    color='JumlahResign',\n",
    "    color_continuous_scale='RdYlGn',\n",
    "    title=f'Sunburst Chart: Resign Berdasarkan Jenjang Karir, Performa Karyawan, dan Alasan Resign di Divisi {divisi_resign_tertinggi}'\n",
    ")\n",
    "\n",
    "# Menampilkan plot\n",
    "fig.show()"
   ]
  },
  {
   "cell_type": "markdown",
   "metadata": {},
   "source": [
    "Berdasarkan hasil visualisasi tersebut, insight-insight yang bisa didapatkan yaitu sebagai berikut.\n",
    "- Mayoritas pegawai di divisi Data Analyst yang resign berasal dari jenjang karir Sangat Bagus dan Bagus, sedangkan yang memiliki jenjang karir Biasa juga menyumbang jumlah resign yang signifikan. Sangat Bagus mungkin adalah karyawan senior yang sudah lama bekerja dan bisa jadi ada alasan khusus mengapa mereka resign.\n",
    "\n",
    "- Karyawan dengan performa Bagus dan Sangat Bagus justru banyak yang resign. Ini bisa menunjukkan bahwa masalahnya bukan terletak pada performa karyawan, melainkan pada faktor lain di luar kemampuan kerja.\n",
    "\n",
    "- Toxic Culture dan Internal Conflict menjadi alasan dominan di setiap level performa, khususnya di tingkat Bagus dan Biasa. Ini menandakan bahwa lingkungan kerja yang kurang kondusif menjadi masalah besar di divisi ini."
   ]
  },
  {
   "cell_type": "markdown",
   "metadata": {},
   "source": [
    "Berdasarkan hasil visualisasi dan insight tersebut, berikut merupakan rekomendasi-rekomendasi yang dapat digunakan.\n",
    "- Karena toxic culture menjadi alasan resign yang signifikan, perusahaan harus segera melakukan evaluasi mendalam mengenai budaya kerja di divisi ini. Ini bisa mencakup pelatihan bagi manajer untuk menciptakan lingkungan kerja yang lebih inklusif dan mengurangi friksi antara tim.\n",
    "\n",
    "- Internal Conflict juga menjadi alasan utama. Ini menunjukkan adanya masalah komunikasi atau konflik interpersonal yang belum terselesaikan. Perusahaan dapat melakukan pelatihan manajemen konflik dan membentuk tim HR yang lebih aktif dalam menangani permasalahan karyawan.\n",
    "\n",
    "- Karena banyak karyawan dengan performa Sangat Bagus dan Bagus yang resign, perusahaan perlu mempertimbangkan langkah-langkah retensi khusus seperti program loyalitas karyawan atau peningkatan reward bagi mereka yang berprestasi untuk memastikan mereka tetap bertahan di perusahaan.\n",
    "\n",
    "- Resign dari karyawan di jenjang karir Sangat Bagus bisa jadi menandakan bahwa peluang pengembangan karir lebih lanjut kurang tersedia. Memberikan lebih banyak kesempatan promosi atau rotasi kerja bisa membantu mengurangi angka resign dari karyawan senior.\n",
    "\n",
    "Dengan langkah-langkah tersebut, diharapkan perusahaan dapat mengurangi jumlah resign, terutama di divisi Data Analyst dan menjaga karyawan yang memiliki performa dan kontribusi tinggi."
   ]
  }
 ],
 "metadata": {
  "kernelspec": {
   "display_name": "env",
   "language": "python",
   "name": "python3"
  },
  "language_info": {
   "codemirror_mode": {
    "name": "ipython",
    "version": 3
   },
   "file_extension": ".py",
   "mimetype": "text/x-python",
   "name": "python",
   "nbconvert_exporter": "python",
   "pygments_lexer": "ipython3",
   "version": "3.9.7"
  }
 },
 "nbformat": 4,
 "nbformat_minor": 2
}
